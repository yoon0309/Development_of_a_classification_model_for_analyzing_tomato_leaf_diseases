{
  "nbformat": 4,
  "nbformat_minor": 0,
  "metadata": {
    "colab": {
      "name": "section4 project .ipynb",
      "provenance": [],
      "machine_shape": "hm"
    },
    "kernelspec": {
      "name": "python3",
      "display_name": "Python 3"
    },
    "language_info": {
      "name": "python"
    },
    "accelerator": "GPU",
    "gpuClass": "standard"
  },
  "cells": [
    {
      "cell_type": "markdown",
      "source": [
        "#토마토 잎 분석을 통해 토마토의 상태를 알려주는 딥러닝 모델 구현"
      ],
      "metadata": {
        "id": "JbtT4iFwhewB"
      }
    },
    {
      "cell_type": "markdown",
      "source": [
        "1. 데이터 선정이유\n",
        "\n",
        "약재를 재배함에 있어서 좋은 약재를 유통시키기 위해서는 1차적으로 좋은 약재를 생산해야합니다.  \n",
        "\n",
        "한의학에서 토마토는 번가(番茄), 서홍(西紅)시, 번이자(番李子)로 부르기도 하는 토마토의 잎을 보고 토마토의 상태를 알려주는 딥러닝 모델을 만들고 싶어 해당 프로젝트를 진행하게 되었습니다."
      ],
      "metadata": {
        "id": "FBXNLskiiN5B"
      }
    },
    {
      "cell_type": "markdown",
      "source": [
        "- 데이터\n",
        "\n",
        "kaggle의 Tomato leaf disease detection\n",
        "\n",
        "https://www.kaggle.com/datasets/kaustubhb999/tomatoleaf\n",
        "\n",
        "- 데이터 설명\n",
        "\n",
        "Tomatomosaicvirus - 토마토 모자이크 바이러스\n",
        "\n",
        "Target_Spot- 표적 반점\n",
        "\n",
        "Bacterial_spot - 세균 반점  \n",
        "\n",
        "TomatoYellowLeafCurlVirus - 토마토황화잎말림바이러스\n",
        "\n",
        "Late_blight - 역병\n",
        "-->아일랜드 감자 기근을 일으킨 병원균\n",
        "\n",
        "Leaf_Mold - 잎 곰팡이\n",
        "\n",
        "Early_blight- 토마토 초기 역병\n",
        "\n",
        "Spidermites Two-spottedspider_mite - 점박이진드기\n",
        "\n",
        "Tomato___healthy\n",
        "\n",
        "Septorialeafspot - Septorial 잎 반점"
      ],
      "metadata": {
        "id": "CmmIuk6zlLx0"
      }
    },
    {
      "cell_type": "code",
      "source": [
        "import numpy as np\n",
        "import pandas as pd\n",
        "import os\n",
        "from tensorflow import keras\n",
        "from keras import optimizers\n",
        "optimizer=keras.optimizers.RMSprop(learning_rate=0.01)"
      ],
      "metadata": {
        "id": "Irge01fDWC-B"
      },
      "execution_count": 39,
      "outputs": []
    },
    {
      "cell_type": "code",
      "source": [
        "from google.colab import drive\n",
        "drive.mount('/content/drive')"
      ],
      "metadata": {
        "colab": {
          "base_uri": "https://localhost:8080/"
        },
        "id": "Rr4BR0iTlLOg",
        "outputId": "8cc97e0a-9fd0-483b-c79c-5f0914cfd8c8"
      },
      "execution_count": 40,
      "outputs": [
        {
          "output_type": "stream",
          "name": "stdout",
          "text": [
            "Drive already mounted at /content/drive; to attempt to forcibly remount, call drive.mount(\"/content/drive\", force_remount=True).\n"
          ]
        }
      ]
    },
    {
      "cell_type": "code",
      "source": [
        "path= '/content/drive/MyDrive/archive/tomato'\n",
        "train_path = os.path.join(path, \"train\")\n",
        "print(os.listdir(train_path))"
      ],
      "metadata": {
        "id": "m-bAGDWy5Y9_",
        "outputId": "daebeed8-bfea-4a98-e3c3-db4c2ee7f0d6",
        "colab": {
          "base_uri": "https://localhost:8080/"
        }
      },
      "execution_count": 41,
      "outputs": [
        {
          "output_type": "stream",
          "name": "stdout",
          "text": [
            "['Tomato___Tomato_Yellow_Leaf_Curl_Virus', 'Tomato___Early_blight', 'Tomato___Leaf_Mold', 'Tomato___Spider_mites Two-spotted_spider_mite', 'Tomato___Target_Spot', 'Tomato___Septoria_leaf_spot', 'Tomato___Late_blight', 'Tomato___Bacterial_spot', 'Tomato___Tomato_mosaic_virus', 'Tomato___healthy']\n"
          ]
        }
      ]
    },
    {
      "cell_type": "code",
      "source": [
        "test_path = os.path.join(path, \"val\")\n",
        "print(os.listdir(test_path))"
      ],
      "metadata": {
        "id": "oDfxNoORCdZp",
        "outputId": "d91d5264-df1b-43cc-e647-d1245f70dbe8",
        "colab": {
          "base_uri": "https://localhost:8080/"
        }
      },
      "execution_count": 42,
      "outputs": [
        {
          "output_type": "stream",
          "name": "stdout",
          "text": [
            "['Tomato___Bacterial_spot', 'Tomato___Early_blight', 'Tomato___Tomato_mosaic_virus', 'Tomato___Tomato_Yellow_Leaf_Curl_Virus', 'Tomato___healthy', 'Tomato___Late_blight', 'Tomato___Target_Spot', 'Tomato___Spider_mites Two-spotted_spider_mite', 'Tomato___Septoria_leaf_spot', 'Tomato___Leaf_Mold']\n"
          ]
        }
      ]
    },
    {
      "cell_type": "code",
      "source": [
        "from glob import glob\n",
        "folders = glob(\"/content/drive/MyDrive/archive/tomato/train/*\")\n",
        "folders"
      ],
      "metadata": {
        "id": "gbioUzk9WkbB",
        "outputId": "d9010ada-a600-4dc8-aa44-1ceb49bb74fc",
        "colab": {
          "base_uri": "https://localhost:8080/"
        }
      },
      "execution_count": 43,
      "outputs": [
        {
          "output_type": "execute_result",
          "data": {
            "text/plain": [
              "['/content/drive/MyDrive/archive/tomato/train/Tomato___Tomato_Yellow_Leaf_Curl_Virus',\n",
              " '/content/drive/MyDrive/archive/tomato/train/Tomato___Early_blight',\n",
              " '/content/drive/MyDrive/archive/tomato/train/Tomato___Leaf_Mold',\n",
              " '/content/drive/MyDrive/archive/tomato/train/Tomato___Spider_mites Two-spotted_spider_mite',\n",
              " '/content/drive/MyDrive/archive/tomato/train/Tomato___Target_Spot',\n",
              " '/content/drive/MyDrive/archive/tomato/train/Tomato___Septoria_leaf_spot',\n",
              " '/content/drive/MyDrive/archive/tomato/train/Tomato___Late_blight',\n",
              " '/content/drive/MyDrive/archive/tomato/train/Tomato___Bacterial_spot',\n",
              " '/content/drive/MyDrive/archive/tomato/train/Tomato___Tomato_mosaic_virus',\n",
              " '/content/drive/MyDrive/archive/tomato/train/Tomato___healthy']"
            ]
          },
          "metadata": {},
          "execution_count": 43
        }
      ]
    },
    {
      "cell_type": "code",
      "source": [
        "from tensorflow.keras.layers import Input, Lambda, Dense, Flatten\n",
        "from tensorflow.keras.models import Model\n",
        "from tensorflow.keras.applications.inception_v3 import InceptionV3\n",
        "from tensorflow.keras.preprocessing import image\n",
        "from tensorflow.keras.preprocessing.image import ImageDataGenerator\n",
        "from tensorflow.keras.models import Sequential"
      ],
      "metadata": {
        "id": "PREvVnbG6vAe"
      },
      "execution_count": 44,
      "outputs": []
    },
    {
      "cell_type": "code",
      "source": [
        "SIZE = [128,128]"
      ],
      "metadata": {
        "id": "EXB0RSeiCxHB"
      },
      "execution_count": 45,
      "outputs": []
    },
    {
      "cell_type": "code",
      "source": [
        "#import VGG19\n",
        "\n",
        "from tensorflow.keras.applications.vgg16 import VGG16\n",
        "from tensorflow.keras.applications.vgg19 import VGG19"
      ],
      "metadata": {
        "id": "D-I5TPsHC2vQ"
      },
      "execution_count": 46,
      "outputs": []
    },
    {
      "cell_type": "code",
      "source": [
        "vgg19 = VGG19(input_shape=SIZE + [3], weights=\"imagenet\", include_top=False)"
      ],
      "metadata": {
        "id": "zf57uxZYC6In"
      },
      "execution_count": 47,
      "outputs": []
    },
    {
      "cell_type": "code",
      "source": [
        "for layer in vgg19.layers:\n",
        "    layer.trainable = False"
      ],
      "metadata": {
        "id": "zex11VHvC7Xz"
      },
      "execution_count": 48,
      "outputs": []
    },
    {
      "cell_type": "code",
      "source": [
        "x = Flatten()(vgg19.output)"
      ],
      "metadata": {
        "id": "O5sM9mEZC_OC"
      },
      "execution_count": 49,
      "outputs": []
    },
    {
      "cell_type": "code",
      "source": [
        "prediction = Dense(len(folders), activation=\"softmax\")(x)\n",
        "\n",
        "model_vgg19 = Model(inputs=vgg19.input, outputs=prediction)"
      ],
      "metadata": {
        "id": "PZi7BIStDAWu"
      },
      "execution_count": 50,
      "outputs": []
    },
    {
      "cell_type": "code",
      "source": [
        "model_vgg19.summary()"
      ],
      "metadata": {
        "id": "Y-sa7k1LDJGx",
        "outputId": "39e958ea-f8fc-4280-b407-3854707f5a34",
        "colab": {
          "base_uri": "https://localhost:8080/"
        }
      },
      "execution_count": 51,
      "outputs": [
        {
          "output_type": "stream",
          "name": "stdout",
          "text": [
            "Model: \"model_1\"\n",
            "_________________________________________________________________\n",
            " Layer (type)                Output Shape              Param #   \n",
            "=================================================================\n",
            " input_2 (InputLayer)        [(None, 128, 128, 3)]     0         \n",
            "                                                                 \n",
            " block1_conv1 (Conv2D)       (None, 128, 128, 64)      1792      \n",
            "                                                                 \n",
            " block1_conv2 (Conv2D)       (None, 128, 128, 64)      36928     \n",
            "                                                                 \n",
            " block1_pool (MaxPooling2D)  (None, 64, 64, 64)        0         \n",
            "                                                                 \n",
            " block2_conv1 (Conv2D)       (None, 64, 64, 128)       73856     \n",
            "                                                                 \n",
            " block2_conv2 (Conv2D)       (None, 64, 64, 128)       147584    \n",
            "                                                                 \n",
            " block2_pool (MaxPooling2D)  (None, 32, 32, 128)       0         \n",
            "                                                                 \n",
            " block3_conv1 (Conv2D)       (None, 32, 32, 256)       295168    \n",
            "                                                                 \n",
            " block3_conv2 (Conv2D)       (None, 32, 32, 256)       590080    \n",
            "                                                                 \n",
            " block3_conv3 (Conv2D)       (None, 32, 32, 256)       590080    \n",
            "                                                                 \n",
            " block3_conv4 (Conv2D)       (None, 32, 32, 256)       590080    \n",
            "                                                                 \n",
            " block3_pool (MaxPooling2D)  (None, 16, 16, 256)       0         \n",
            "                                                                 \n",
            " block4_conv1 (Conv2D)       (None, 16, 16, 512)       1180160   \n",
            "                                                                 \n",
            " block4_conv2 (Conv2D)       (None, 16, 16, 512)       2359808   \n",
            "                                                                 \n",
            " block4_conv3 (Conv2D)       (None, 16, 16, 512)       2359808   \n",
            "                                                                 \n",
            " block4_conv4 (Conv2D)       (None, 16, 16, 512)       2359808   \n",
            "                                                                 \n",
            " block4_pool (MaxPooling2D)  (None, 8, 8, 512)         0         \n",
            "                                                                 \n",
            " block5_conv1 (Conv2D)       (None, 8, 8, 512)         2359808   \n",
            "                                                                 \n",
            " block5_conv2 (Conv2D)       (None, 8, 8, 512)         2359808   \n",
            "                                                                 \n",
            " block5_conv3 (Conv2D)       (None, 8, 8, 512)         2359808   \n",
            "                                                                 \n",
            " block5_conv4 (Conv2D)       (None, 8, 8, 512)         2359808   \n",
            "                                                                 \n",
            " block5_pool (MaxPooling2D)  (None, 4, 4, 512)         0         \n",
            "                                                                 \n",
            " flatten_1 (Flatten)         (None, 8192)              0         \n",
            "                                                                 \n",
            " dense_1 (Dense)             (None, 10)                81930     \n",
            "                                                                 \n",
            "=================================================================\n",
            "Total params: 20,106,314\n",
            "Trainable params: 81,930\n",
            "Non-trainable params: 20,024,384\n",
            "_________________________________________________________________\n"
          ]
        }
      ]
    },
    {
      "cell_type": "code",
      "source": [
        "from tensorflow.keras import optimizers\n",
        "from keras.optimizers import RMSprop"
      ],
      "metadata": {
        "id": "lmQwcjJS_Qqz"
      },
      "execution_count": 52,
      "outputs": []
    },
    {
      "cell_type": "code",
      "source": [
        "model_vgg19.compile(loss='categorical_crossentropy',\n",
        "              optimizer=RMSprop(lr=1e-4),\n",
        "              metrics=['acc'])"
      ],
      "metadata": {
        "id": "K_nbCZ27DMRt"
      },
      "execution_count": 53,
      "outputs": []
    },
    {
      "cell_type": "code",
      "source": [
        "train_datagen_vg19 = ImageDataGenerator(rescale=1./255)\n",
        "\n",
        "test_datagen_vg19 = ImageDataGenerator(rescale=1./255)"
      ],
      "metadata": {
        "id": "ODzv5cL6DN8P"
      },
      "execution_count": 54,
      "outputs": []
    },
    {
      "cell_type": "code",
      "source": [
        "trainning_set_vg19 = train_datagen_vg19.flow_from_directory(train_path,\n",
        "                                                 target_size=(128, 128),\n",
        "                                                 batch_size=32,\n",
        "                                                 class_mode=\"categorical\",\n",
        "                                                 shuffle=True)"
      ],
      "metadata": {
        "id": "1lkUjss9DRLF",
        "outputId": "71ea7e9b-823f-439a-848e-ec09b8df778e",
        "colab": {
          "base_uri": "https://localhost:8080/"
        }
      },
      "execution_count": 55,
      "outputs": [
        {
          "output_type": "stream",
          "name": "stdout",
          "text": [
            "Found 10000 images belonging to 10 classes.\n"
          ]
        }
      ]
    },
    {
      "cell_type": "code",
      "source": [
        "testing_set_vg19 = test_datagen_vg19.flow_from_directory(test_path,\n",
        "                                                 target_size=(128, 128),\n",
        "                                                 batch_size=32,\n",
        "                                                 class_mode=\"categorical\",\n",
        "                                                 shuffle=False)"
      ],
      "metadata": {
        "id": "Bv9XnBRPDSmH",
        "outputId": "0baf114c-60a1-4f33-f707-6e709dab253f",
        "colab": {
          "base_uri": "https://localhost:8080/"
        }
      },
      "execution_count": 56,
      "outputs": [
        {
          "output_type": "stream",
          "name": "stdout",
          "text": [
            "Found 1000 images belonging to 10 classes.\n"
          ]
        }
      ]
    },
    {
      "cell_type": "code",
      "source": [
        "r= model_vgg19.fit(trainning_set_vg19,validation_data=testing_set_vg19 ,validation_batch_size=64,epochs=10)"
      ],
      "metadata": {
        "id": "EvARZHaL_XhZ",
        "outputId": "0a24b085-dc8a-4af3-ab77-c17a8af7760b",
        "colab": {
          "base_uri": "https://localhost:8080/"
        }
      },
      "execution_count": 57,
      "outputs": [
        {
          "output_type": "stream",
          "name": "stdout",
          "text": [
            "Epoch 1/10\n",
            "313/313 [==============================] - 32s 100ms/step - loss: 1.5579 - acc: 0.5535 - val_loss: 1.1986 - val_acc: 0.6580\n",
            "Epoch 2/10\n",
            "313/313 [==============================] - 30s 97ms/step - loss: 0.9995 - acc: 0.7105 - val_loss: 0.9821 - val_acc: 0.6970\n",
            "Epoch 3/10\n",
            "313/313 [==============================] - 31s 99ms/step - loss: 0.8205 - acc: 0.7548 - val_loss: 0.8615 - val_acc: 0.7450\n",
            "Epoch 4/10\n",
            "313/313 [==============================] - 31s 98ms/step - loss: 0.7210 - acc: 0.7834 - val_loss: 0.8104 - val_acc: 0.7460\n",
            "Epoch 5/10\n",
            "313/313 [==============================] - 30s 97ms/step - loss: 0.6545 - acc: 0.8015 - val_loss: 0.7623 - val_acc: 0.7570\n",
            "Epoch 6/10\n",
            "313/313 [==============================] - 31s 98ms/step - loss: 0.6047 - acc: 0.8175 - val_loss: 0.7286 - val_acc: 0.7610\n",
            "Epoch 7/10\n",
            "313/313 [==============================] - 30s 97ms/step - loss: 0.5639 - acc: 0.8300 - val_loss: 0.7152 - val_acc: 0.7600\n",
            "Epoch 8/10\n",
            "313/313 [==============================] - 30s 96ms/step - loss: 0.5326 - acc: 0.8410 - val_loss: 0.6928 - val_acc: 0.7690\n",
            "Epoch 9/10\n",
            "313/313 [==============================] - 30s 97ms/step - loss: 0.5054 - acc: 0.8477 - val_loss: 0.6831 - val_acc: 0.7720\n",
            "Epoch 10/10\n",
            "313/313 [==============================] - 30s 96ms/step - loss: 0.4808 - acc: 0.8553 - val_loss: 0.6547 - val_acc: 0.7770\n"
          ]
        }
      ]
    },
    {
      "cell_type": "code",
      "source": [
        "score_train = model_vgg19.evaluate(trainning_set_vg19, verbose=2)\n",
        "accuracy_train = 100*score_train[1]\n",
        "print('Train accuracy = %.4f%% ' % accuracy_train)\n",
        "\n",
        "score_val = model_vgg19.evaluate(testing_set_vg19 , verbose=2)\n",
        "accuracy_val = 100*score_val[1]\n",
        "print('Test accuracy = %.4f%% ' % accuracy_val)"
      ],
      "metadata": {
        "id": "GmEb5Yf0Y-yT",
        "outputId": "cfd98bf9-af04-4a08-be9b-be0b49085ef6",
        "colab": {
          "base_uri": "https://localhost:8080/"
        }
      },
      "execution_count": 72,
      "outputs": [
        {
          "output_type": "stream",
          "name": "stdout",
          "text": [
            "313/313 - 29s - loss: 0.4646 - acc: 0.8590 - 29s/epoch - 92ms/step\n",
            "Train accuracy = 85.9000% \n",
            "32/32 - 3s - loss: 0.6547 - acc: 0.7770 - 3s/epoch - 81ms/step\n",
            "Test accuracy = 77.7000% \n"
          ]
        }
      ]
    },
    {
      "cell_type": "code",
      "source": [
        "import matplotlib.pyplot as plt"
      ],
      "metadata": {
        "id": "STcbWJaxYtFn"
      },
      "execution_count": 59,
      "outputs": []
    },
    {
      "cell_type": "code",
      "source": [
        "# plot the loss\n",
        "plt.plot(r.history['loss'], label='train loss')\n",
        "plt.plot(r.history['val_loss'], label='test loss')\n",
        "plt.legend()\n",
        "plt.show()\n",
        "plt.savefig('LossVal_loss')\n",
        "\n",
        "# plot the accuracy\n",
        "plt.plot(r.history['acc'], label='train acc')\n",
        "plt.plot(r.history['val_acc'], label='test acc')\n",
        "plt.legend()\n",
        "plt.show()\n",
        "plt.savefig('AccVal_acc')"
      ],
      "metadata": {
        "id": "yV0kvlKRNusA",
        "outputId": "db1f8f2c-82c7-4f3e-ad7d-8c11107d109d",
        "colab": {
          "base_uri": "https://localhost:8080/",
          "height": 863
        }
      },
      "execution_count": 76,
      "outputs": [
        {
          "output_type": "display_data",
          "data": {
            "text/plain": [
              "<Figure size 640x480 with 1 Axes>"
            ],
            "image/png": "[encoded data removed]"
          },
          "metadata": {}
        },
        {
          "output_type": "display_data",
          "data": {
            "text/plain": [
              "<Figure size 640x480 with 1 Axes>"
            ],
            "image/png": "[encoded data removed]"
          },
          "metadata": {}
        },
        {
          "output_type": "display_data",
          "data": {
            "text/plain": [
              "<Figure size 640x480 with 0 Axes>"
            ]
          },
          "metadata": {}
        }
      ]
    },
    {
      "cell_type": "code",
      "source": [
        "y_pred = model_vgg19.predict(testing_set_vg19)"
      ],
      "metadata": {
        "id": "7jcpRr55DXmR",
        "outputId": "d0ab0bf6-1710-4fdc-9362-520c14ca7772",
        "colab": {
          "base_uri": "https://localhost:8080/"
        }
      },
      "execution_count": 61,
      "outputs": [
        {
          "output_type": "stream",
          "name": "stdout",
          "text": [
            "32/32 [==============================] - 3s 93ms/step\n"
          ]
        }
      ]
    },
    {
      "cell_type": "code",
      "source": [
        "y_pred"
      ],
      "metadata": {
        "id": "JsDx8ELoDYgf",
        "outputId": "55cc2d07-81e7-48d0-ffe4-9997b369396f",
        "colab": {
          "base_uri": "https://localhost:8080/"
        }
      },
      "execution_count": 62,
      "outputs": [
        {
          "output_type": "execute_result",
          "data": {
            "text/plain": [
              "array([[9.68604624e-01, 1.50839286e-02, 1.59476418e-03, ...,\n",
              "        1.46115234e-03, 8.13100087e-07, 5.30872931e-05],\n",
              "       [9.78029609e-01, 1.43403849e-02, 3.51894414e-03, ...,\n",
              "        1.82497766e-04, 2.85467422e-07, 3.22023379e-06],\n",
              "       [9.72113550e-01, 1.94130596e-02, 3.07518570e-03, ...,\n",
              "        1.40119897e-04, 7.35687195e-07, 1.58310122e-05],\n",
              "       ...,\n",
              "       [1.01917945e-02, 2.16066584e-01, 2.19953790e-01, ...,\n",
              "        1.88374761e-04, 4.19477379e-04, 3.09657562e-03],\n",
              "       [2.42069364e-03, 1.81045622e-01, 1.85302585e-01, ...,\n",
              "        5.77458297e-04, 1.65135469e-02, 3.50759298e-01],\n",
              "       [2.33975932e-01, 3.32782045e-02, 1.09688625e-01, ...,\n",
              "        1.33016199e-01, 1.76020991e-02, 1.52147055e-01]], dtype=float32)"
            ]
          },
          "metadata": {},
          "execution_count": 62
        }
      ]
    },
    {
      "cell_type": "code",
      "source": [
        "y_pred = np.argmax(y_pred, axis=1)\n",
        "y_pred"
      ],
      "metadata": {
        "id": "gOWed3_9K34V",
        "outputId": "3d9f155a-584f-4145-aed5-5d0bb38de623",
        "colab": {
          "base_uri": "https://localhost:8080/"
        }
      },
      "execution_count": 63,
      "outputs": [
        {
          "output_type": "execute_result",
          "data": {
            "text/plain": [
              "array([0, 0, 0, 0, 0, 0, 0, 0, 0, 0, 0, 0, 0, 0, 0, 0, 0, 0, 0, 0, 0, 0,\n",
              "       0, 0, 0, 0, 0, 0, 0, 0, 0, 0, 0, 0, 0, 0, 0, 0, 0, 0, 4, 0, 0, 0,\n",
              "       0, 0, 0, 0, 0, 0, 0, 0, 0, 7, 0, 0, 0, 0, 0, 0, 0, 4, 0, 0, 0, 0,\n",
              "       0, 0, 0, 0, 0, 0, 0, 0, 0, 0, 0, 0, 4, 1, 0, 0, 0, 0, 0, 0, 0, 0,\n",
              "       0, 0, 0, 0, 0, 0, 0, 4, 0, 0, 0, 0, 5, 4, 1, 5, 0, 1, 1, 1, 1, 1,\n",
              "       1, 1, 1, 1, 2, 1, 1, 1, 1, 6, 1, 4, 3, 1, 1, 2, 0, 1, 3, 1, 1, 1,\n",
              "       4, 6, 6, 2, 2, 1, 2, 3, 1, 0, 1, 3, 0, 1, 1, 1, 1, 1, 8, 1, 2, 1,\n",
              "       1, 1, 2, 1, 1, 1, 1, 1, 2, 2, 2, 1, 2, 1, 1, 1, 1, 6, 1, 2, 2, 4,\n",
              "       1, 1, 0, 2, 3, 4, 1, 1, 4, 1, 1, 2, 2, 1, 2, 1, 1, 2, 0, 1, 1, 1,\n",
              "       2, 2, 2, 1, 2, 2, 2, 2, 2, 2, 2, 2, 4, 2, 4, 2, 2, 4, 2, 2, 2, 1,\n",
              "       2, 2, 2, 2, 2, 2, 1, 2, 2, 2, 3, 2, 1, 2, 1, 2, 2, 2, 2, 2, 2, 2,\n",
              "       2, 2, 2, 2, 2, 1, 2, 0, 2, 2, 1, 2, 1, 2, 2, 2, 0, 2, 2, 2, 2, 3,\n",
              "       2, 2, 4, 2, 2, 2, 1, 1, 2, 4, 2, 2, 2, 0, 2, 2, 2, 6, 2, 2, 4, 2,\n",
              "       2, 2, 4, 2, 2, 2, 2, 2, 2, 1, 2, 2, 0, 4, 3, 0, 3, 3, 3, 3, 3, 8,\n",
              "       3, 3, 3, 7, 3, 7, 3, 4, 3, 3, 4, 3, 3, 3, 4, 3, 3, 0, 3, 3, 3, 4,\n",
              "       1, 3, 3, 3, 3, 3, 3, 6, 4, 3, 3, 3, 3, 6, 3, 3, 1, 0, 3, 2, 7, 3,\n",
              "       3, 3, 8, 8, 3, 3, 3, 7, 3, 8, 4, 3, 3, 8, 3, 2, 3, 4, 3, 3, 3, 3,\n",
              "       3, 3, 3, 3, 3, 3, 3, 1, 3, 3, 4, 3, 2, 7, 3, 3, 3, 8, 3, 1, 3, 1,\n",
              "       3, 3, 3, 1, 4, 4, 4, 3, 7, 7, 4, 1, 4, 4, 4, 0, 4, 4, 4, 0, 4, 5,\n",
              "       0, 4, 2, 6, 4, 4, 0, 4, 4, 4, 4, 4, 4, 2, 4, 4, 4, 4, 1, 4, 4, 4,\n",
              "       4, 4, 4, 4, 4, 0, 4, 4, 4, 4, 3, 2, 4, 4, 4, 2, 4, 4, 4, 4, 4, 2,\n",
              "       4, 4, 4, 4, 3, 4, 4, 5, 4, 4, 2, 4, 4, 8, 4, 4, 4, 4, 4, 4, 4, 4,\n",
              "       4, 4, 4, 0, 2, 4, 6, 0, 4, 4, 4, 4, 4, 4, 8, 4, 5, 5, 5, 6, 5, 5,\n",
              "       5, 5, 5, 5, 6, 6, 5, 5, 5, 6, 5, 8, 5, 5, 5, 5, 5, 5, 5, 5, 5, 5,\n",
              "       5, 5, 5, 5, 5, 5, 5, 5, 5, 8, 5, 5, 5, 5, 5, 5, 6, 5, 6, 5, 5, 5,\n",
              "       5, 6, 5, 5, 5, 5, 5, 5, 5, 6, 5, 5, 6, 5, 5, 5, 5, 6, 5, 5, 7, 6,\n",
              "       5, 5, 5, 6, 5, 5, 5, 5, 5, 5, 4, 5, 8, 8, 5, 1, 4, 5, 5, 5, 5, 8,\n",
              "       3, 3, 7, 5, 6, 5, 6, 5, 5, 6, 6, 4, 6, 6, 6, 6, 6, 6, 6, 6, 9, 6,\n",
              "       6, 6, 6, 6, 6, 6, 6, 6, 5, 6, 6, 6, 6, 6, 6, 6, 0, 9, 6, 6, 5, 6,\n",
              "       6, 6, 6, 8, 9, 6, 6, 9, 6, 6, 6, 5, 6, 9, 7, 6, 6, 6, 6, 6, 6, 6,\n",
              "       6, 6, 6, 6, 6, 6, 6, 6, 6, 6, 6, 5, 8, 6, 6, 4, 1, 6, 6, 6, 4, 6,\n",
              "       2, 8, 6, 1, 9, 6, 2, 3, 4, 4, 4, 6, 6, 1, 1, 6, 1, 2, 7, 7, 7, 7,\n",
              "       7, 7, 7, 0, 4, 7, 0, 7, 7, 7, 7, 7, 7, 7, 7, 0, 5, 7, 7, 7, 7, 7,\n",
              "       7, 7, 7, 7, 7, 7, 7, 7, 7, 7, 7, 7, 4, 7, 7, 7, 7, 7, 7, 7, 6, 7,\n",
              "       7, 7, 7, 7, 7, 7, 4, 7, 0, 6, 7, 7, 7, 7, 7, 7, 7, 7, 7, 7, 7, 7,\n",
              "       7, 7, 8, 7, 7, 7, 7, 7, 7, 8, 7, 7, 7, 7, 7, 7, 7, 0, 7, 7, 7, 7,\n",
              "       7, 7, 7, 7, 7, 7, 7, 7, 8, 5, 8, 8, 8, 8, 8, 8, 8, 3, 4, 8, 8, 8,\n",
              "       8, 8, 8, 8, 8, 8, 8, 8, 8, 5, 8, 8, 8, 8, 8, 8, 8, 8, 8, 8, 8, 8,\n",
              "       8, 8, 8, 8, 8, 8, 8, 8, 8, 8, 8, 8, 8, 8, 8, 8, 8, 4, 8, 8, 8, 8,\n",
              "       8, 8, 8, 8, 8, 8, 8, 8, 8, 8, 8, 8, 8, 8, 8, 8, 8, 8, 8, 8, 8, 8,\n",
              "       8, 8, 8, 8, 8, 8, 8, 8, 8, 8, 8, 8, 8, 8, 3, 8, 8, 3, 8, 8, 9, 9,\n",
              "       9, 9, 9, 9, 9, 9, 9, 9, 9, 9, 9, 9, 6, 9, 9, 9, 9, 9, 9, 9, 9, 9,\n",
              "       9, 9, 9, 9, 9, 9, 9, 9, 9, 9, 6, 9, 9, 9, 9, 9, 9, 9, 9, 9, 9, 9,\n",
              "       9, 9, 9, 9, 9, 9, 9, 9, 9, 9, 9, 9, 9, 9, 9, 9, 9, 9, 9, 9, 9, 9,\n",
              "       9, 9, 9, 9, 9, 9, 9, 9, 9, 9, 9, 9, 8, 9, 9, 9, 9, 9, 6, 9, 9, 9,\n",
              "       4, 9, 9, 9, 3, 3, 3, 3, 9, 0])"
            ]
          },
          "metadata": {},
          "execution_count": 63
        }
      ]
    },
    {
      "cell_type": "code",
      "source": [
        "from collections import Counter"
      ],
      "metadata": {
        "id": "zwqdW_ShvAH-"
      },
      "execution_count": 64,
      "outputs": []
    },
    {
      "cell_type": "code",
      "source": [
        "cnt = Counter(y_pred)\n",
        "cnt"
      ],
      "metadata": {
        "id": "5cRB2f5Ru34p",
        "outputId": "3705961e-ac74-42ff-e3d9-c97cb8c86e11",
        "colab": {
          "base_uri": "https://localhost:8080/"
        }
      },
      "execution_count": 65,
      "outputs": [
        {
          "output_type": "execute_result",
          "data": {
            "text/plain": [
              "Counter({0: 121,\n",
              "         4: 113,\n",
              "         7: 98,\n",
              "         1: 82,\n",
              "         5: 88,\n",
              "         2: 107,\n",
              "         6: 95,\n",
              "         3: 87,\n",
              "         8: 113,\n",
              "         9: 96})"
            ]
          },
          "metadata": {},
          "execution_count": 65
        }
      ]
    },
    {
      "cell_type": "code",
      "source": [
        "model_vgg19.save(\"vgg_19tl.model.h5\")"
      ],
      "metadata": {
        "id": "9Er-qyddoFPr"
      },
      "execution_count": 80,
      "outputs": []
    },
    {
      "cell_type": "code",
      "source": [
        "import cv2\n",
        "import tensorflow as tf\n",
        "def prepare(filepath):\n",
        "    img_array = cv2.imread(filepath, cv2.IMREAD_COLOR)\n",
        "    img_array = img_array / 255\n",
        "    new_array = cv2.resize(img_array, (128, 128))\n",
        "    return new_array.reshape(-1, 128, 128, 3)\n",
        "\n",
        "model = tf.keras.models.load_model(\"vgg_19tl.model\")"
      ],
      "metadata": {
        "id": "IxC-q3ydoF55"
      },
      "execution_count": 67,
      "outputs": []
    },
    {
      "cell_type": "code",
      "source": [
        "class_dict = trainning_set_vg19.class_indices\n",
        "class_dict"
      ],
      "metadata": {
        "id": "1wwCWJjdoL8b",
        "outputId": "2ddcf271-5f8a-49e8-a19c-594ce0792ba4",
        "colab": {
          "base_uri": "https://localhost:8080/"
        }
      },
      "execution_count": 68,
      "outputs": [
        {
          "output_type": "execute_result",
          "data": {
            "text/plain": [
              "{'Tomato___Bacterial_spot': 0,\n",
              " 'Tomato___Early_blight': 1,\n",
              " 'Tomato___Late_blight': 2,\n",
              " 'Tomato___Leaf_Mold': 3,\n",
              " 'Tomato___Septoria_leaf_spot': 4,\n",
              " 'Tomato___Spider_mites Two-spotted_spider_mite': 5,\n",
              " 'Tomato___Target_Spot': 6,\n",
              " 'Tomato___Tomato_Yellow_Leaf_Curl_Virus': 7,\n",
              " 'Tomato___Tomato_mosaic_virus': 8,\n",
              " 'Tomato___healthy': 9}"
            ]
          },
          "metadata": {},
          "execution_count": 68
        }
      ]
    },
    {
      "cell_type": "code",
      "source": [
        "def prediction_cls(prediction):\n",
        "    for key, clss in class_dict.items():\n",
        "        if np.argmax(prediction) == clss:\n",
        "            return key"
      ],
      "metadata": {
        "id": "T6x4zHCpoONn"
      },
      "execution_count": 69,
      "outputs": []
    },
    {
      "cell_type": "code",
      "source": [
        "prediction = model.predict([prepare('/content/drive/MyDrive/archive/tomato/val/Tomato___Tomato_mosaic_virus/0befa341-0db3-49f4-b4fc-beeb05854bff___PSU_CG 2338.JPG')])\n",
        "prediction_cls(prediction)"
      ],
      "metadata": {
        "id": "RpTX3EwcoPLi",
        "outputId": "c896e524-3953-4d25-9cbc-5df8b500ea91",
        "colab": {
          "base_uri": "https://localhost:8080/",
          "height": 54
        }
      },
      "execution_count": 70,
      "outputs": [
        {
          "output_type": "stream",
          "name": "stdout",
          "text": [
            "1/1 [==============================] - 0s 154ms/step\n"
          ]
        },
        {
          "output_type": "execute_result",
          "data": {
            "text/plain": [
              "'Tomato___Tomato_mosaic_virus'"
            ],
            "application/vnd.google.colaboratory.intrinsic+json": {
              "type": "string"
            }
          },
          "metadata": {},
          "execution_count": 70
        }
      ]
    },
    {
      "cell_type": "code",
      "source": [
        "prediction = model.predict([prepare('/content/drive/MyDrive/archive/tomato/val/Tomato___healthy/000bf685-b305-408b-91f4-37030f8e62db___GH_HL Leaf 308.1.JPG')])\n",
        "prediction_cls(prediction)"
      ],
      "metadata": {
        "id": "WOcjXLOBooR-",
        "outputId": "bba78b33-0d02-4302-dc9a-53a61c6b5177",
        "colab": {
          "base_uri": "https://localhost:8080/",
          "height": 54
        }
      },
      "execution_count": 71,
      "outputs": [
        {
          "output_type": "stream",
          "name": "stdout",
          "text": [
            "1/1 [==============================] - 0s 20ms/step\n"
          ]
        },
        {
          "output_type": "execute_result",
          "data": {
            "text/plain": [
              "'Tomato___healthy'"
            ],
            "application/vnd.google.colaboratory.intrinsic+json": {
              "type": "string"
            }
          },
          "metadata": {},
          "execution_count": 71
        }
      ]
    }
  ]
}