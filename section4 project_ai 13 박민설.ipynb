{
  "nbformat": 4,
  "nbformat_minor": 0,
  "metadata": {
    "colab": {
      "name": "section4 project .ipynb",
      "provenance": [],
      "machine_shape": "hm"
    },
    "kernelspec": {
      "name": "python3",
      "display_name": "Python 3"
    },
    "language_info": {
      "name": "python"
    },
    "accelerator": "GPU",
    "gpuClass": "standard"
  },
  "cells": [
    {
      "cell_type": "markdown",
      "source": [
        "#토마토 잎 분석을 통해 토마토의 상태를 알려주는 딥러닝 모델 구현"
      ],
      "metadata": {
        "id": "JbtT4iFwhewB"
      }
    },
    {
      "cell_type": "markdown",
      "source": [
        "1. 데이터 선정이유\n",
        "\n",
        "약재를 재배함에 있어서 좋은 약재를 유통시키기 위해서는 1차적으로 좋은 약재를 생산해야합니다.  \n",
        "\n",
        "한의학에서 토마토는 번가(番茄), 서홍(西紅)시, 번이자(番李子)로 부르기도 하는 토마토의 잎을 보고 토마토의 상태를 알려주는 딥러닝 모델을 만들고 싶어 해당 프로젝트를 진행하게 되었습니다."
      ],
      "metadata": {
        "id": "FBXNLskiiN5B"
      }
    },
    {
      "cell_type": "markdown",
      "source": [
        "- 데이터\n",
        "\n",
        "kaggle의 Tomato leaf disease detection\n",
        "\n",
        "https://www.kaggle.com/datasets/kaustubhb999/tomatoleaf\n",
        "\n",
        "- 데이터 설명\n",
        "\n",
        "Tomatomosaicvirus - 토마토 모자이크 바이러스\n",
        "\n",
        "Target_Spot- 표적 반점\n",
        "\n",
        "Bacterial_spot - 세균 반점  \n",
        "\n",
        "TomatoYellowLeafCurlVirus - 토마토황화잎말림바이러스\n",
        "\n",
        "Late_blight - 역병\n",
        "-->아일랜드 감자 기근을 일으킨 병원균\n",
        "\n",
        "Leaf_Mold - 잎 곰팡이\n",
        "\n",
        "Early_blight- 토마토 초기 역병\n",
        "\n",
        "Spidermites Two-spottedspider_mite - 점박이진드기\n",
        "\n",
        "Tomato___healthy\n",
        "\n",
        "Septorialeafspot - Septorial 잎 반점"
      ],
      "metadata": {
        "id": "CmmIuk6zlLx0"
      }
    },
    {
      "cell_type": "code",
      "source": [
        "import numpy as np\n",
        "import pandas as pd\n",
        "import os\n",
        "from tensorflow import keras\n",
        "from keras import optimizers\n",
        "optimizer=keras.optimizers.RMSprop(learning_rate=0.01)"
      ],
      "metadata": {
        "id": "Irge01fDWC-B"
      },
      "execution_count": 1,
      "outputs": []
    },
    {
      "cell_type": "code",
      "source": [
        "from google.colab import drive\n",
        "drive.mount('/content/drive')"
      ],
      "metadata": {
        "colab": {
          "base_uri": "https://localhost:8080/"
        },
        "id": "Rr4BR0iTlLOg",
        "outputId": "76c1df18-8858-462a-b425-03657f47c3a1"
      },
      "execution_count": 2,
      "outputs": [
        {
          "output_type": "stream",
          "name": "stdout",
          "text": [
            "Mounted at /content/drive\n"
          ]
        }
      ]
    },
    {
      "cell_type": "code",
      "source": [
        "path= '/content/drive/MyDrive/archive/tomato'\n",
        "train_path = os.path.join(path, \"train\")\n",
        "print(os.listdir(train_path))"
      ],
      "metadata": {
        "id": "m-bAGDWy5Y9_",
        "outputId": "361a2557-d7ac-46fd-ea86-9a19a9ffc17d",
        "colab": {
          "base_uri": "https://localhost:8080/"
        }
      },
      "execution_count": 3,
      "outputs": [
        {
          "output_type": "stream",
          "name": "stdout",
          "text": [
            "['Tomato___Tomato_Yellow_Leaf_Curl_Virus', 'Tomato___Early_blight', 'Tomato___Leaf_Mold', 'Tomato___Spider_mites Two-spotted_spider_mite', 'Tomato___Target_Spot', 'Tomato___Septoria_leaf_spot', 'Tomato___Late_blight', 'Tomato___Bacterial_spot', 'Tomato___Tomato_mosaic_virus', 'Tomato___healthy']\n"
          ]
        }
      ]
    },
    {
      "cell_type": "code",
      "source": [
        "test_path = os.path.join(path, \"val\")\n",
        "print(os.listdir(test_path))"
      ],
      "metadata": {
        "id": "oDfxNoORCdZp",
        "outputId": "089578d4-7509-4ea0-b445-5a8faa61e4e3",
        "colab": {
          "base_uri": "https://localhost:8080/"
        }
      },
      "execution_count": 4,
      "outputs": [
        {
          "output_type": "stream",
          "name": "stdout",
          "text": [
            "['Tomato___Bacterial_spot', 'Tomato___Early_blight', 'Tomato___Tomato_mosaic_virus', 'Tomato___Tomato_Yellow_Leaf_Curl_Virus', 'Tomato___healthy', 'Tomato___Late_blight', 'Tomato___Target_Spot', 'Tomato___Spider_mites Two-spotted_spider_mite', 'Tomato___Septoria_leaf_spot', 'Tomato___Leaf_Mold']\n"
          ]
        }
      ]
    },
    {
      "cell_type": "code",
      "source": [
        "from glob import glob\n",
        "folders = glob(\"/content/drive/MyDrive/archive/tomato/train/*\")\n",
        "folders"
      ],
      "metadata": {
        "id": "gbioUzk9WkbB",
        "outputId": "ea52b933-4db5-42cd-de63-a86004e27180",
        "colab": {
          "base_uri": "https://localhost:8080/"
        }
      },
      "execution_count": 5,
      "outputs": [
        {
          "output_type": "execute_result",
          "data": {
            "text/plain": [
              "['/content/drive/MyDrive/archive/tomato/train/Tomato___Tomato_Yellow_Leaf_Curl_Virus',\n",
              " '/content/drive/MyDrive/archive/tomato/train/Tomato___Early_blight',\n",
              " '/content/drive/MyDrive/archive/tomato/train/Tomato___Leaf_Mold',\n",
              " '/content/drive/MyDrive/archive/tomato/train/Tomato___Spider_mites Two-spotted_spider_mite',\n",
              " '/content/drive/MyDrive/archive/tomato/train/Tomato___Target_Spot',\n",
              " '/content/drive/MyDrive/archive/tomato/train/Tomato___Septoria_leaf_spot',\n",
              " '/content/drive/MyDrive/archive/tomato/train/Tomato___Late_blight',\n",
              " '/content/drive/MyDrive/archive/tomato/train/Tomato___Bacterial_spot',\n",
              " '/content/drive/MyDrive/archive/tomato/train/Tomato___Tomato_mosaic_virus',\n",
              " '/content/drive/MyDrive/archive/tomato/train/Tomato___healthy']"
            ]
          },
          "metadata": {},
          "execution_count": 5
        }
      ]
    },
    {
      "cell_type": "code",
      "source": [
        "from tensorflow.keras.layers import Input, Lambda, Dense, Flatten\n",
        "from tensorflow.keras.models import Model\n",
        "from tensorflow.keras.applications.inception_v3 import InceptionV3\n",
        "from tensorflow.keras.preprocessing import image\n",
        "from tensorflow.keras.preprocessing.image import ImageDataGenerator\n",
        "from tensorflow.keras.models import Sequential"
      ],
      "metadata": {
        "id": "PREvVnbG6vAe"
      },
      "execution_count": 6,
      "outputs": []
    },
    {
      "cell_type": "code",
      "source": [
        "SIZE = [128,128]"
      ],
      "metadata": {
        "id": "EXB0RSeiCxHB"
      },
      "execution_count": 7,
      "outputs": []
    },
    {
      "cell_type": "code",
      "source": [
        "#import VGG19\n",
        "\n",
        "from tensorflow.keras.applications.vgg16 import VGG16\n",
        "from tensorflow.keras.applications.vgg19 import VGG19"
      ],
      "metadata": {
        "id": "D-I5TPsHC2vQ"
      },
      "execution_count": 8,
      "outputs": []
    },
    {
      "cell_type": "code",
      "source": [
        "vgg19 = VGG19(input_shape=SIZE + [3], weights=\"imagenet\", include_top=False)"
      ],
      "metadata": {
        "id": "zf57uxZYC6In",
        "outputId": "f77d7d33-1c95-43a4-a057-9fc0edcde283",
        "colab": {
          "base_uri": "https://localhost:8080/"
        }
      },
      "execution_count": 9,
      "outputs": [
        {
          "output_type": "stream",
          "name": "stdout",
          "text": [
            "Downloading data from https://storage.googleapis.com/tensorflow/keras-applications/vgg19/vgg19_weights_tf_dim_ordering_tf_kernels_notop.h5\n",
            "80134624/80134624 [==============================] - 1s 0us/step\n"
          ]
        }
      ]
    },
    {
      "cell_type": "code",
      "source": [
        "for layer in vgg19.layers:\n",
        "    layer.trainable = False"
      ],
      "metadata": {
        "id": "zex11VHvC7Xz"
      },
      "execution_count": 10,
      "outputs": []
    },
    {
      "cell_type": "code",
      "source": [
        "x = Flatten()(vgg19.output)"
      ],
      "metadata": {
        "id": "O5sM9mEZC_OC"
      },
      "execution_count": 11,
      "outputs": []
    },
    {
      "cell_type": "code",
      "source": [
        "prediction = Dense(len(folders), activation=\"softmax\")(x)\n",
        "\n",
        "model_vgg19 = Model(inputs=vgg19.input, outputs=prediction)"
      ],
      "metadata": {
        "id": "PZi7BIStDAWu"
      },
      "execution_count": 12,
      "outputs": []
    },
    {
      "cell_type": "code",
      "source": [
        "model_vgg19.summary()"
      ],
      "metadata": {
        "id": "Y-sa7k1LDJGx",
        "outputId": "0e8c8ae5-3d1d-47cb-ac8d-30014cc903e8",
        "colab": {
          "base_uri": "https://localhost:8080/"
        }
      },
      "execution_count": 13,
      "outputs": [
        {
          "output_type": "stream",
          "name": "stdout",
          "text": [
            "Model: \"model\"\n",
            "_________________________________________________________________\n",
            " Layer (type)                Output Shape              Param #   \n",
            "=================================================================\n",
            " input_1 (InputLayer)        [(None, 128, 128, 3)]     0         \n",
            "                                                                 \n",
            " block1_conv1 (Conv2D)       (None, 128, 128, 64)      1792      \n",
            "                                                                 \n",
            " block1_conv2 (Conv2D)       (None, 128, 128, 64)      36928     \n",
            "                                                                 \n",
            " block1_pool (MaxPooling2D)  (None, 64, 64, 64)        0         \n",
            "                                                                 \n",
            " block2_conv1 (Conv2D)       (None, 64, 64, 128)       73856     \n",
            "                                                                 \n",
            " block2_conv2 (Conv2D)       (None, 64, 64, 128)       147584    \n",
            "                                                                 \n",
            " block2_pool (MaxPooling2D)  (None, 32, 32, 128)       0         \n",
            "                                                                 \n",
            " block3_conv1 (Conv2D)       (None, 32, 32, 256)       295168    \n",
            "                                                                 \n",
            " block3_conv2 (Conv2D)       (None, 32, 32, 256)       590080    \n",
            "                                                                 \n",
            " block3_conv3 (Conv2D)       (None, 32, 32, 256)       590080    \n",
            "                                                                 \n",
            " block3_conv4 (Conv2D)       (None, 32, 32, 256)       590080    \n",
            "                                                                 \n",
            " block3_pool (MaxPooling2D)  (None, 16, 16, 256)       0         \n",
            "                                                                 \n",
            " block4_conv1 (Conv2D)       (None, 16, 16, 512)       1180160   \n",
            "                                                                 \n",
            " block4_conv2 (Conv2D)       (None, 16, 16, 512)       2359808   \n",
            "                                                                 \n",
            " block4_conv3 (Conv2D)       (None, 16, 16, 512)       2359808   \n",
            "                                                                 \n",
            " block4_conv4 (Conv2D)       (None, 16, 16, 512)       2359808   \n",
            "                                                                 \n",
            " block4_pool (MaxPooling2D)  (None, 8, 8, 512)         0         \n",
            "                                                                 \n",
            " block5_conv1 (Conv2D)       (None, 8, 8, 512)         2359808   \n",
            "                                                                 \n",
            " block5_conv2 (Conv2D)       (None, 8, 8, 512)         2359808   \n",
            "                                                                 \n",
            " block5_conv3 (Conv2D)       (None, 8, 8, 512)         2359808   \n",
            "                                                                 \n",
            " block5_conv4 (Conv2D)       (None, 8, 8, 512)         2359808   \n",
            "                                                                 \n",
            " block5_pool (MaxPooling2D)  (None, 4, 4, 512)         0         \n",
            "                                                                 \n",
            " flatten (Flatten)           (None, 8192)              0         \n",
            "                                                                 \n",
            " dense (Dense)               (None, 10)                81930     \n",
            "                                                                 \n",
            "=================================================================\n",
            "Total params: 20,106,314\n",
            "Trainable params: 81,930\n",
            "Non-trainable params: 20,024,384\n",
            "_________________________________________________________________\n"
          ]
        }
      ]
    },
    {
      "cell_type": "code",
      "source": [
        "from tensorflow.keras import optimizers"
      ],
      "metadata": {
        "id": "lmQwcjJS_Qqz"
      },
      "execution_count": 14,
      "outputs": []
    },
    {
      "cell_type": "code",
      "source": [
        "model_vgg19.compile(loss='categorical_crossentropy',\n",
        "              optimizer=optimizers.RMSprop(lr=1e-4),\n",
        "              metrics=['acc'])"
      ],
      "metadata": {
        "id": "K_nbCZ27DMRt",
        "outputId": "38e12c0a-cef4-4c5d-aa1f-7b46956dca8a",
        "colab": {
          "base_uri": "https://localhost:8080/"
        }
      },
      "execution_count": 15,
      "outputs": [
        {
          "output_type": "stream",
          "name": "stderr",
          "text": [
            "WARNING:absl:`lr` is deprecated in Keras optimizer, please use `learning_rate` or use the legacy optimizer, e.g.,tf.keras.optimizers.legacy.RMSprop.\n"
          ]
        }
      ]
    },
    {
      "cell_type": "code",
      "source": [
        "train_datagen_vg19 = ImageDataGenerator(rescale=1./255)\n",
        "\n",
        "test_datagen_vg19 = ImageDataGenerator(rescale=1./255)"
      ],
      "metadata": {
        "id": "ODzv5cL6DN8P"
      },
      "execution_count": 16,
      "outputs": []
    },
    {
      "cell_type": "code",
      "source": [
        "trainning_set_vg19 = train_datagen_vg19.flow_from_directory(train_path,\n",
        "                                                 target_size=(128, 128),\n",
        "                                                 batch_size=32,\n",
        "                                                 class_mode=\"categorical\",\n",
        "                                                 shuffle=True)"
      ],
      "metadata": {
        "id": "1lkUjss9DRLF",
        "outputId": "085ff40b-f15d-405e-ccbb-f65f5b6d15de",
        "colab": {
          "base_uri": "https://localhost:8080/"
        }
      },
      "execution_count": 17,
      "outputs": [
        {
          "output_type": "stream",
          "name": "stdout",
          "text": [
            "Found 10000 images belonging to 10 classes.\n"
          ]
        }
      ]
    },
    {
      "cell_type": "code",
      "source": [
        "testing_set_vg19 = test_datagen_vg19.flow_from_directory(test_path,\n",
        "                                                 target_size=(128, 128),\n",
        "                                                 batch_size=32,\n",
        "                                                 class_mode=\"categorical\",\n",
        "                                                 shuffle=False)"
      ],
      "metadata": {
        "id": "Bv9XnBRPDSmH",
        "outputId": "e7d41913-2ab2-411b-9af6-2917a9ff0355",
        "colab": {
          "base_uri": "https://localhost:8080/"
        }
      },
      "execution_count": 18,
      "outputs": [
        {
          "output_type": "stream",
          "name": "stdout",
          "text": [
            "Found 1000 images belonging to 10 classes.\n"
          ]
        }
      ]
    },
    {
      "cell_type": "code",
      "source": [
        "r= model_vgg19.fit(trainning_set_vg19,validation_data=testing_set_vg19 ,validation_batch_size=64,epochs=10)"
      ],
      "metadata": {
        "id": "EvARZHaL_XhZ",
        "outputId": "7d6f3fb2-0a2e-4ebc-a662-89f018b0cbe1",
        "colab": {
          "base_uri": "https://localhost:8080/"
        }
      },
      "execution_count": 19,
      "outputs": [
        {
          "output_type": "stream",
          "name": "stdout",
          "text": [
            "Epoch 1/10\n",
            "313/313 [==============================] - 2162s 7s/step - loss: 1.0859 - acc: 0.6314 - val_loss: 0.8180 - val_acc: 0.7230\n",
            "Epoch 2/10\n",
            "313/313 [==============================] - 34s 108ms/step - loss: 0.6239 - acc: 0.7870 - val_loss: 0.7418 - val_acc: 0.7450\n",
            "Epoch 3/10\n",
            "313/313 [==============================] - 34s 109ms/step - loss: 0.4946 - acc: 0.8315 - val_loss: 0.7580 - val_acc: 0.7550\n",
            "Epoch 4/10\n",
            "313/313 [==============================] - 35s 110ms/step - loss: 0.4211 - acc: 0.8530 - val_loss: 0.6957 - val_acc: 0.7870\n",
            "Epoch 5/10\n",
            "313/313 [==============================] - 34s 109ms/step - loss: 0.3632 - acc: 0.8733 - val_loss: 0.7466 - val_acc: 0.7790\n",
            "Epoch 6/10\n",
            "313/313 [==============================] - 34s 107ms/step - loss: 0.3211 - acc: 0.8896 - val_loss: 0.9181 - val_acc: 0.7280\n",
            "Epoch 7/10\n",
            "313/313 [==============================] - 34s 108ms/step - loss: 0.2824 - acc: 0.9006 - val_loss: 0.6543 - val_acc: 0.7850\n",
            "Epoch 8/10\n",
            "313/313 [==============================] - 33s 106ms/step - loss: 0.2505 - acc: 0.9115 - val_loss: 0.5930 - val_acc: 0.8080\n",
            "Epoch 9/10\n",
            "313/313 [==============================] - 34s 108ms/step - loss: 0.2270 - acc: 0.9257 - val_loss: 0.8318 - val_acc: 0.7520\n",
            "Epoch 10/10\n",
            "313/313 [==============================] - 34s 108ms/step - loss: 0.2078 - acc: 0.9336 - val_loss: 0.6878 - val_acc: 0.7960\n"
          ]
        }
      ]
    },
    {
      "cell_type": "code",
      "source": [
        "score_train = model_vgg19.evaluate(trainning_set_vg19, verbose=2)\n",
        "accuracy_train = 100*score_train[1]\n",
        "print('Train accuracy = %.4f%% ' % accuracy_train)\n",
        "\n",
        "score_val = model_vgg19.evaluate(testing_set_vg19 , verbose=2)\n",
        "accuracy_val = 100*score_val[1]\n",
        "print('Validate accuracy = %.4f%% ' % accuracy_val)"
      ],
      "metadata": {
        "id": "GmEb5Yf0Y-yT",
        "outputId": "53c1647c-6287-40c9-888a-7c4056944e6c",
        "colab": {
          "base_uri": "https://localhost:8080/"
        }
      },
      "execution_count": 20,
      "outputs": [
        {
          "output_type": "stream",
          "name": "stdout",
          "text": [
            "313/313 - 30s - loss: 0.1597 - acc: 0.9514 - 30s/epoch - 95ms/step\n",
            "Train accuracy = 95.1400% \n",
            "32/32 - 3s - loss: 0.6878 - acc: 0.7960 - 3s/epoch - 95ms/step\n",
            "Validate accuracy = 79.6000% \n"
          ]
        }
      ]
    },
    {
      "cell_type": "code",
      "source": [
        "import matplotlib.pyplot as plt"
      ],
      "metadata": {
        "id": "STcbWJaxYtFn"
      },
      "execution_count": 21,
      "outputs": []
    },
    {
      "cell_type": "code",
      "source": [
        "# plot the loss\n",
        "plt.plot(r.history['loss'], label='train loss')\n",
        "plt.plot(r.history['val_loss'], label='val loss')\n",
        "plt.legend()\n",
        "plt.show()\n",
        "plt.savefig('LossVal_loss')\n",
        "\n",
        "# plot the accuracy\n",
        "plt.plot(r.history['acc'], label='train acc')\n",
        "plt.plot(r.history['val_acc'], label='val acc')\n",
        "plt.legend()\n",
        "plt.show()\n",
        "plt.savefig('AccVal_acc')"
      ],
      "metadata": {
        "id": "yV0kvlKRNusA",
        "outputId": "1e828df6-3edf-4a1f-bc09-980baaaf28cb",
        "colab": {
          "base_uri": "https://localhost:8080/",
          "height": 861
        }
      },
      "execution_count": 22,
      "outputs": [
        {
          "output_type": "display_data",
          "data": {
            "text/plain": [
              "<Figure size 640x480 with 1 Axes>"
            ],
            "image/png": "[encoded data removed]"
          },
          "metadata": {}
        },
        {
          "output_type": "display_data",
          "data": {
            "text/plain": [
              "<Figure size 640x480 with 1 Axes>"
            ],
            "image/png": "[encoded data removed]"
          },
          "metadata": {}
        },
        {
          "output_type": "display_data",
          "data": {
            "text/plain": [
              "<Figure size 640x480 with 0 Axes>"
            ]
          },
          "metadata": {}
        }
      ]
    },
    {
      "cell_type": "code",
      "source": [
        "y_pred = model_vgg19.predict(testing_set_vg19)"
      ],
      "metadata": {
        "id": "7jcpRr55DXmR",
        "outputId": "de19e0e4-16cd-465e-b13a-b61b211aca1b",
        "colab": {
          "base_uri": "https://localhost:8080/"
        }
      },
      "execution_count": 23,
      "outputs": [
        {
          "output_type": "stream",
          "name": "stdout",
          "text": [
            "32/32 [==============================] - 3s 94ms/step\n"
          ]
        }
      ]
    },
    {
      "cell_type": "code",
      "source": [
        "y_pred"
      ],
      "metadata": {
        "id": "JsDx8ELoDYgf",
        "outputId": "43b95875-9bd3-4743-c9f8-d4df57478cda",
        "colab": {
          "base_uri": "https://localhost:8080/"
        }
      },
      "execution_count": 24,
      "outputs": [
        {
          "output_type": "execute_result",
          "data": {
            "text/plain": [
              "array([[9.92880404e-01, 5.97831933e-03, 1.16470226e-04, ...,\n",
              "        6.37412304e-05, 5.06234568e-11, 1.85792837e-09],\n",
              "       [9.89598632e-01, 6.17672410e-03, 4.17183852e-03, ...,\n",
              "        3.65984590e-07, 1.04499688e-12, 5.88357835e-12],\n",
              "       [9.87576485e-01, 1.12316040e-02, 9.97325405e-04, ...,\n",
              "        5.91266371e-07, 3.71013810e-11, 5.40853806e-10],\n",
              "       ...,\n",
              "       [1.45576254e-04, 7.94292867e-01, 2.81914566e-02, ...,\n",
              "        2.76887118e-08, 1.02324248e-06, 7.61937641e-04],\n",
              "       [3.85528620e-06, 2.05998525e-01, 9.65133402e-03, ...,\n",
              "        2.26777999e-07, 3.51849152e-03, 5.74824393e-01],\n",
              "       [9.15645882e-02, 3.08460277e-02, 5.91745794e-01, ...,\n",
              "        1.88618060e-02, 8.93102307e-03, 5.26760779e-02]], dtype=float32)"
            ]
          },
          "metadata": {},
          "execution_count": 24
        }
      ]
    },
    {
      "cell_type": "code",
      "source": [
        "y_pred = np.argmax(y_pred, axis=1)\n",
        "y_pred"
      ],
      "metadata": {
        "id": "gOWed3_9K34V",
        "outputId": "61e428f2-d187-42df-ae9e-e57810eee76d",
        "colab": {
          "base_uri": "https://localhost:8080/"
        }
      },
      "execution_count": 25,
      "outputs": [
        {
          "output_type": "execute_result",
          "data": {
            "text/plain": [
              "array([0, 0, 0, 0, 0, 0, 0, 0, 0, 0, 0, 0, 0, 0, 0, 0, 0, 0, 0, 0, 4, 0,\n",
              "       0, 0, 0, 0, 0, 0, 0, 0, 0, 0, 0, 0, 0, 0, 0, 1, 0, 0, 0, 1, 0, 0,\n",
              "       0, 0, 0, 0, 0, 0, 0, 0, 0, 0, 0, 0, 0, 0, 0, 0, 6, 0, 0, 0, 0, 0,\n",
              "       0, 6, 0, 0, 0, 0, 0, 0, 0, 0, 0, 0, 4, 1, 0, 0, 0, 0, 0, 0, 0, 0,\n",
              "       6, 0, 0, 0, 0, 0, 0, 4, 0, 0, 0, 0, 5, 1, 1, 5, 0, 1, 1, 1, 1, 1,\n",
              "       1, 1, 1, 1, 2, 1, 1, 1, 1, 1, 1, 1, 1, 1, 1, 2, 1, 1, 1, 1, 1, 1,\n",
              "       4, 6, 2, 2, 1, 1, 2, 1, 1, 1, 1, 1, 1, 1, 1, 1, 1, 1, 8, 1, 1, 1,\n",
              "       1, 1, 2, 1, 1, 1, 1, 1, 1, 1, 1, 1, 1, 1, 1, 1, 2, 6, 1, 1, 1, 1,\n",
              "       1, 1, 1, 1, 1, 4, 1, 1, 4, 1, 1, 2, 1, 1, 1, 1, 1, 2, 1, 1, 1, 1,\n",
              "       1, 1, 2, 1, 2, 2, 2, 2, 2, 2, 2, 1, 4, 2, 1, 2, 2, 2, 2, 2, 2, 2,\n",
              "       2, 2, 2, 2, 2, 2, 1, 2, 2, 2, 3, 2, 1, 2, 1, 2, 2, 2, 2, 2, 2, 2,\n",
              "       2, 2, 2, 2, 2, 1, 2, 0, 2, 2, 1, 2, 1, 2, 2, 1, 0, 2, 2, 2, 2, 3,\n",
              "       2, 2, 4, 2, 2, 1, 1, 1, 2, 2, 2, 2, 2, 2, 2, 2, 2, 6, 2, 2, 2, 2,\n",
              "       2, 2, 2, 2, 2, 2, 2, 2, 2, 1, 2, 2, 0, 4, 3, 3, 3, 3, 3, 3, 3, 8,\n",
              "       3, 3, 3, 1, 2, 7, 3, 3, 3, 3, 3, 3, 3, 3, 4, 3, 3, 3, 3, 3, 3, 3,\n",
              "       1, 3, 4, 3, 3, 3, 3, 6, 4, 2, 3, 3, 8, 2, 3, 3, 6, 6, 3, 2, 3, 3,\n",
              "       3, 3, 8, 8, 3, 3, 3, 1, 3, 8, 3, 3, 1, 8, 3, 8, 8, 4, 3, 3, 4, 3,\n",
              "       3, 8, 8, 1, 1, 8, 8, 1, 1, 4, 4, 4, 2, 7, 3, 6, 3, 8, 2, 1, 1, 1,\n",
              "       3, 8, 3, 1, 4, 4, 4, 3, 7, 2, 4, 1, 1, 4, 4, 0, 4, 4, 4, 0, 4, 5,\n",
              "       4, 4, 1, 6, 4, 4, 1, 4, 4, 4, 4, 4, 4, 2, 4, 4, 4, 4, 1, 4, 4, 4,\n",
              "       4, 4, 4, 4, 4, 0, 4, 4, 4, 4, 3, 2, 4, 4, 4, 4, 4, 4, 4, 4, 4, 2,\n",
              "       4, 4, 4, 4, 2, 4, 4, 4, 6, 4, 2, 4, 4, 8, 4, 4, 4, 4, 8, 4, 4, 4,\n",
              "       4, 4, 4, 4, 2, 4, 6, 1, 8, 2, 4, 4, 9, 4, 8, 4, 5, 5, 5, 6, 5, 6,\n",
              "       5, 6, 5, 5, 9, 6, 5, 5, 5, 6, 5, 8, 5, 5, 5, 5, 5, 5, 5, 5, 5, 5,\n",
              "       5, 5, 5, 5, 5, 5, 5, 6, 1, 8, 5, 5, 5, 5, 5, 5, 6, 5, 6, 5, 5, 5,\n",
              "       5, 6, 5, 5, 5, 5, 5, 5, 5, 6, 5, 5, 6, 5, 5, 5, 5, 5, 5, 9, 6, 6,\n",
              "       5, 5, 5, 5, 5, 6, 5, 5, 5, 5, 8, 5, 8, 8, 5, 1, 2, 5, 5, 6, 5, 6,\n",
              "       8, 1, 5, 5, 6, 6, 6, 5, 5, 6, 6, 6, 6, 6, 6, 6, 6, 6, 6, 6, 9, 6,\n",
              "       6, 6, 6, 6, 6, 6, 6, 6, 6, 6, 6, 6, 6, 6, 6, 6, 1, 9, 6, 6, 6, 6,\n",
              "       6, 6, 6, 8, 6, 6, 6, 6, 6, 6, 6, 5, 6, 9, 1, 6, 6, 6, 6, 6, 6, 6,\n",
              "       6, 6, 6, 6, 6, 6, 6, 6, 6, 6, 6, 5, 8, 6, 6, 6, 1, 6, 6, 6, 8, 6,\n",
              "       2, 8, 6, 1, 6, 6, 1, 6, 1, 6, 2, 6, 6, 1, 1, 6, 1, 6, 7, 7, 7, 7,\n",
              "       7, 7, 7, 0, 4, 7, 7, 7, 5, 7, 7, 7, 7, 7, 7, 0, 5, 7, 7, 7, 7, 7,\n",
              "       7, 7, 7, 7, 7, 7, 7, 7, 7, 7, 7, 7, 4, 7, 7, 7, 7, 7, 7, 7, 4, 7,\n",
              "       7, 7, 7, 7, 7, 7, 4, 7, 7, 6, 7, 7, 7, 7, 7, 7, 7, 7, 7, 7, 7, 7,\n",
              "       7, 5, 8, 7, 7, 7, 7, 7, 7, 8, 7, 7, 7, 2, 7, 7, 7, 1, 7, 7, 7, 7,\n",
              "       7, 7, 7, 7, 7, 7, 7, 8, 8, 8, 8, 8, 8, 8, 8, 8, 8, 8, 8, 8, 8, 8,\n",
              "       8, 8, 8, 8, 8, 8, 8, 8, 8, 5, 8, 8, 8, 8, 8, 8, 8, 8, 8, 8, 8, 8,\n",
              "       8, 8, 8, 8, 8, 8, 8, 8, 8, 8, 8, 8, 8, 8, 8, 8, 8, 4, 8, 8, 8, 8,\n",
              "       8, 8, 8, 8, 8, 8, 8, 8, 8, 8, 8, 8, 8, 8, 8, 8, 8, 8, 8, 8, 8, 8,\n",
              "       8, 8, 8, 8, 8, 8, 8, 8, 8, 8, 8, 8, 8, 8, 8, 8, 8, 8, 8, 8, 9, 9,\n",
              "       9, 9, 9, 9, 9, 9, 9, 9, 9, 9, 9, 9, 9, 9, 9, 9, 9, 9, 9, 9, 9, 9,\n",
              "       9, 9, 9, 9, 9, 9, 9, 9, 9, 9, 9, 9, 9, 9, 9, 9, 9, 9, 9, 9, 9, 9,\n",
              "       9, 9, 9, 9, 9, 9, 9, 9, 9, 9, 9, 9, 9, 9, 9, 9, 9, 9, 9, 9, 9, 9,\n",
              "       9, 9, 9, 9, 9, 9, 9, 9, 9, 9, 9, 9, 8, 9, 9, 9, 6, 9, 6, 9, 9, 9,\n",
              "       3, 1, 9, 8, 1, 9, 1, 1, 9, 2])"
            ]
          },
          "metadata": {},
          "execution_count": 25
        }
      ]
    },
    {
      "cell_type": "code",
      "source": [
        "from collections import Counter"
      ],
      "metadata": {
        "id": "zwqdW_ShvAH-"
      },
      "execution_count": 26,
      "outputs": []
    },
    {
      "cell_type": "code",
      "source": [
        "cnt = Counter(y_pred)\n",
        "cnt"
      ],
      "metadata": {
        "id": "5cRB2f5Ru34p",
        "outputId": "a229960e-02e8-4607-9526-f8f2d434b7a2",
        "colab": {
          "base_uri": "https://localhost:8080/"
        }
      },
      "execution_count": 27,
      "outputs": [
        {
          "output_type": "execute_result",
          "data": {
            "text/plain": [
              "Counter({0: 100,\n",
              "         4: 93,\n",
              "         1: 134,\n",
              "         6: 112,\n",
              "         5: 81,\n",
              "         2: 105,\n",
              "         8: 132,\n",
              "         3: 59,\n",
              "         7: 88,\n",
              "         9: 96})"
            ]
          },
          "metadata": {},
          "execution_count": 27
        }
      ]
    },
    {
      "cell_type": "code",
      "source": [
        "model_vgg19.save(\"vgg_19tl.model\")"
      ],
      "metadata": {
        "id": "9Er-qyddoFPr",
        "outputId": "7d1da3fc-ddec-4947-9616-335b1722452b",
        "colab": {
          "base_uri": "https://localhost:8080/"
        }
      },
      "execution_count": 28,
      "outputs": [
        {
          "output_type": "stream",
          "name": "stderr",
          "text": [
            "WARNING:absl:Found untraced functions such as _jit_compiled_convolution_op, _jit_compiled_convolution_op, _jit_compiled_convolution_op, _jit_compiled_convolution_op, _jit_compiled_convolution_op while saving (showing 5 of 16). These functions will not be directly callable after loading.\n"
          ]
        }
      ]
    },
    {
      "cell_type": "code",
      "source": [
        "import cv2\n",
        "import tensorflow as tf\n",
        "def prepare(filepath):\n",
        "    img_array = cv2.imread(filepath, cv2.IMREAD_COLOR)\n",
        "    img_array = img_array / 255\n",
        "    new_array = cv2.resize(img_array, (128, 128))\n",
        "    return new_array.reshape(-1, 128, 128, 3)\n",
        "\n",
        "model = tf.keras.models.load_model(\"vgg_19tl.model\")"
      ],
      "metadata": {
        "id": "IxC-q3ydoF55"
      },
      "execution_count": 29,
      "outputs": []
    },
    {
      "cell_type": "code",
      "source": [
        "class_dict = trainning_set_vg19.class_indices\n",
        "class_dict"
      ],
      "metadata": {
        "id": "1wwCWJjdoL8b",
        "outputId": "f76cece9-04be-48c3-c611-ff6ea9a3e33c",
        "colab": {
          "base_uri": "https://localhost:8080/"
        }
      },
      "execution_count": 30,
      "outputs": [
        {
          "output_type": "execute_result",
          "data": {
            "text/plain": [
              "{'Tomato___Bacterial_spot': 0,\n",
              " 'Tomato___Early_blight': 1,\n",
              " 'Tomato___Late_blight': 2,\n",
              " 'Tomato___Leaf_Mold': 3,\n",
              " 'Tomato___Septoria_leaf_spot': 4,\n",
              " 'Tomato___Spider_mites Two-spotted_spider_mite': 5,\n",
              " 'Tomato___Target_Spot': 6,\n",
              " 'Tomato___Tomato_Yellow_Leaf_Curl_Virus': 7,\n",
              " 'Tomato___Tomato_mosaic_virus': 8,\n",
              " 'Tomato___healthy': 9}"
            ]
          },
          "metadata": {},
          "execution_count": 30
        }
      ]
    },
    {
      "cell_type": "code",
      "source": [
        "def prediction_cls(prediction):\n",
        "    for key, clss in class_dict.items():\n",
        "        if np.argmax(prediction) == clss:\n",
        "            return key"
      ],
      "metadata": {
        "id": "T6x4zHCpoONn"
      },
      "execution_count": 31,
      "outputs": []
    },
    {
      "cell_type": "code",
      "source": [
        "prediction = model.predict([prepare('/content/drive/MyDrive/archive/tomato/val/Tomato___Tomato_mosaic_virus/0befa341-0db3-49f4-b4fc-beeb05854bff___PSU_CG 2338.JPG')])\n",
        "prediction_cls(prediction)"
      ],
      "metadata": {
        "id": "RpTX3EwcoPLi",
        "outputId": "6ece4f98-3987-4308-98df-aad80a8ba1a9",
        "colab": {
          "base_uri": "https://localhost:8080/",
          "height": 54
        }
      },
      "execution_count": 32,
      "outputs": [
        {
          "output_type": "stream",
          "name": "stdout",
          "text": [
            "1/1 [==============================] - 1s 714ms/step\n"
          ]
        },
        {
          "output_type": "execute_result",
          "data": {
            "text/plain": [
              "'Tomato___Tomato_mosaic_virus'"
            ],
            "application/vnd.google.colaboratory.intrinsic+json": {
              "type": "string"
            }
          },
          "metadata": {},
          "execution_count": 32
        }
      ]
    },
    {
      "cell_type": "code",
      "source": [
        "prediction = model.predict([prepare('/content/drive/MyDrive/archive/tomato/val/Tomato___healthy/000bf685-b305-408b-91f4-37030f8e62db___GH_HL Leaf 308.1.JPG')])\n",
        "prediction_cls(prediction)"
      ],
      "metadata": {
        "id": "WOcjXLOBooR-",
        "outputId": "2d0dd82e-38cc-4815-d597-ccc39def4a6a",
        "colab": {
          "base_uri": "https://localhost:8080/",
          "height": 54
        }
      },
      "execution_count": 33,
      "outputs": [
        {
          "output_type": "stream",
          "name": "stdout",
          "text": [
            "1/1 [==============================] - 0s 23ms/step\n"
          ]
        },
        {
          "output_type": "execute_result",
          "data": {
            "text/plain": [
              "'Tomato___healthy'"
            ],
            "application/vnd.google.colaboratory.intrinsic+json": {
              "type": "string"
            }
          },
          "metadata": {},
          "execution_count": 33
        }
      ]
    },
    {
      "cell_type": "code",
      "source": [
        " # 모델 저장\n",
        " model_vgg19.save('model_vgg19.h5')"
      ],
      "metadata": {
        "id": "OyB9DpjLvCH8"
      },
      "execution_count": 34,
      "outputs": []
    }
  ]
}