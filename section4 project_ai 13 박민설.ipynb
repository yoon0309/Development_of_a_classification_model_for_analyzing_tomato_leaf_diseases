{
  "nbformat": 4,
  "nbformat_minor": 0,
  "metadata": {
    "colab": {
      "name": "section4 project .ipynb",
      "provenance": [],
      "machine_shape": "hm"
    },
    "kernelspec": {
      "name": "python3",
      "display_name": "Python 3"
    },
    "language_info": {
      "name": "python"
    },
    "accelerator": "GPU",
    "gpuClass": "standard"
  },
  "cells": [
    {
      "cell_type": "markdown",
      "source": [
        "#토마토 잎 분석을 통해 토마토의 상태를 알려주는 딥러닝 모델 구현 "
      ],
      "metadata": {
        "id": "JbtT4iFwhewB"
      }
    },
    {
      "cell_type": "markdown",
      "source": [
        "1. 데이터 선정이유 \n",
        "\n",
        "약재를 재배함에 있어서 좋은 약재를 유통시키기 위해서는 1차적으로 좋은 약재를 생산해야합니다.  \n",
        "\n",
        "한의학에서 토마토는 번가(番茄), 서홍(西紅)시, 번이자(番李子)로 부르기도 하는 토마토의 잎을 보고 토마토의 상태를 알려주는 딥러닝 모델을 만들고 싶어 해당 프로젝트를 진행하게 되었습니다."
      ],
      "metadata": {
        "id": "FBXNLskiiN5B"
      }
    },
    {
      "cell_type": "markdown",
      "source": [
        "- 데이터 \n",
        "\n",
        "kaggle의 Tomato leaf disease detection\n",
        "\n",
        "https://www.kaggle.com/datasets/kaustubhb999/tomatoleaf\n",
        "\n",
        "- 데이터 설명\n",
        "\n",
        "Tomatomosaicvirus - 토마토 모자이크 바이러스 \n",
        "\n",
        "Target_Spot- 표적 반점 \n",
        "\n",
        "Bacterial_spot - 세균 반점  \n",
        "\n",
        "TomatoYellowLeafCurlVirus - 토마토황화잎말림바이러스 \n",
        "\n",
        "Late_blight - 역병\n",
        "-->아일랜드 감자 기근을 일으킨 병원균\n",
        "\n",
        "Leaf_Mold - 잎 곰팡이\n",
        "\n",
        "Early_blight- 토마토 초기 역병\n",
        "\n",
        "Spidermites Two-spottedspider_mite - 점박이진드기 \n",
        "\n",
        "Tomato___healthy\n",
        "\n",
        "Septorialeafspot - Septorial 잎 반점"
      ],
      "metadata": {
        "id": "CmmIuk6zlLx0"
      }
    },
    {
      "cell_type": "code",
      "source": [
        "import numpy as np \n",
        "import pandas as pd \n",
        "import os\n",
        "from tensorflow import keras\n",
        "from keras import optimizers\n",
        "optimizer=keras.optimizers.RMSprop(learning_rate=0.01)"
      ],
      "metadata": {
        "id": "Irge01fDWC-B"
      },
      "execution_count": null,
      "outputs": []
    },
    {
      "cell_type": "code",
      "source": [
        "from google.colab import drive\n",
        "drive.mount('/content/drive')"
      ],
      "metadata": {
        "colab": {
          "base_uri": "https://localhost:8080/"
        },
        "id": "Rr4BR0iTlLOg",
        "outputId": "aa9abdd8-2279-40a0-ff90-a37e8b790985"
      },
      "execution_count": null,
      "outputs": [
        {
          "output_type": "stream",
          "name": "stdout",
          "text": [
            "Drive already mounted at /content/drive; to attempt to forcibly remount, call drive.mount(\"/content/drive\", force_remount=True).\n"
          ]
        }
      ]
    },
    {
      "cell_type": "code",
      "source": [
        "path= '/content/drive/MyDrive/archive/tomato'\n",
        "train_path = os.path.join(path, \"train\")\n",
        "print(os.listdir(train_path))"
      ],
      "metadata": {
        "id": "m-bAGDWy5Y9_",
        "outputId": "4d6699fe-0388-432c-b879-6d18c458d054",
        "colab": {
          "base_uri": "https://localhost:8080/"
        }
      },
      "execution_count": null,
      "outputs": [
        {
          "output_type": "stream",
          "name": "stdout",
          "text": [
            "['Tomato___healthy', 'Tomato___Tomato_Yellow_Leaf_Curl_Virus', 'Tomato___Septoria_leaf_spot', 'Tomato___Late_blight', 'Tomato___Target_Spot', 'Tomato___Leaf_Mold', 'Tomato___Tomato_mosaic_virus', 'Tomato___Spider_mites Two-spotted_spider_mite', 'Tomato___Early_blight', 'Tomato___Bacterial_spot']\n"
          ]
        }
      ]
    },
    {
      "cell_type": "code",
      "source": [
        "test_path = os.path.join(path, \"val\")\n",
        "print(os.listdir(test_path))"
      ],
      "metadata": {
        "id": "oDfxNoORCdZp",
        "outputId": "43b9d26b-a53f-4645-d992-2cf314663282",
        "colab": {
          "base_uri": "https://localhost:8080/"
        }
      },
      "execution_count": null,
      "outputs": [
        {
          "output_type": "stream",
          "name": "stdout",
          "text": [
            "['Tomato___Tomato_Yellow_Leaf_Curl_Virus', 'Tomato___Septoria_leaf_spot', 'Tomato___healthy', 'Tomato___Leaf_Mold', 'Tomato___Spider_mites Two-spotted_spider_mite', 'Tomato___Early_blight', 'Tomato___Target_Spot', 'Tomato___Late_blight', 'Tomato___Tomato_mosaic_virus', 'Tomato___Bacterial_spot']\n"
          ]
        }
      ]
    },
    {
      "cell_type": "code",
      "source": [
        "from glob import glob\n",
        "folders = glob(\"/content/drive/MyDrive/archive/tomato/train/*\")\n",
        "folders"
      ],
      "metadata": {
        "id": "gbioUzk9WkbB",
        "outputId": "6f29f2e7-b2b9-4f30-c4cf-dd57c5832a52",
        "colab": {
          "base_uri": "https://localhost:8080/"
        }
      },
      "execution_count": null,
      "outputs": [
        {
          "output_type": "execute_result",
          "data": {
            "text/plain": [
              "['/content/drive/MyDrive/archive/tomato/train/Tomato___healthy',\n",
              " '/content/drive/MyDrive/archive/tomato/train/Tomato___Tomato_Yellow_Leaf_Curl_Virus',\n",
              " '/content/drive/MyDrive/archive/tomato/train/Tomato___Septoria_leaf_spot',\n",
              " '/content/drive/MyDrive/archive/tomato/train/Tomato___Late_blight',\n",
              " '/content/drive/MyDrive/archive/tomato/train/Tomato___Target_Spot',\n",
              " '/content/drive/MyDrive/archive/tomato/train/Tomato___Leaf_Mold',\n",
              " '/content/drive/MyDrive/archive/tomato/train/Tomato___Tomato_mosaic_virus',\n",
              " '/content/drive/MyDrive/archive/tomato/train/Tomato___Spider_mites Two-spotted_spider_mite',\n",
              " '/content/drive/MyDrive/archive/tomato/train/Tomato___Early_blight',\n",
              " '/content/drive/MyDrive/archive/tomato/train/Tomato___Bacterial_spot']"
            ]
          },
          "metadata": {},
          "execution_count": 5
        }
      ]
    },
    {
      "cell_type": "code",
      "source": [
        "from tensorflow.keras.layers import Input, Lambda, Dense, Flatten\n",
        "from tensorflow.keras.models import Model\n",
        "from tensorflow.keras.applications.inception_v3 import InceptionV3\n",
        "from tensorflow.keras.preprocessing import image\n",
        "from tensorflow.keras.preprocessing.image import ImageDataGenerator\n",
        "from tensorflow.keras.models import Sequential"
      ],
      "metadata": {
        "id": "PREvVnbG6vAe"
      },
      "execution_count": null,
      "outputs": []
    },
    {
      "cell_type": "code",
      "source": [
        "SIZE = [128,128]"
      ],
      "metadata": {
        "id": "EXB0RSeiCxHB"
      },
      "execution_count": null,
      "outputs": []
    },
    {
      "cell_type": "code",
      "source": [
        "#import VGG19 \n",
        "\n",
        "from tensorflow.keras.applications.vgg16 import VGG16\n",
        "from tensorflow.keras.applications.vgg19 import VGG19"
      ],
      "metadata": {
        "id": "D-I5TPsHC2vQ"
      },
      "execution_count": null,
      "outputs": []
    },
    {
      "cell_type": "code",
      "source": [
        "vgg19 = VGG19(input_shape=SIZE + [3], weights=\"imagenet\", include_top=False)"
      ],
      "metadata": {
        "id": "zf57uxZYC6In"
      },
      "execution_count": null,
      "outputs": []
    },
    {
      "cell_type": "code",
      "source": [
        "for layer in vgg19.layers:\n",
        "    layer.trainable = False"
      ],
      "metadata": {
        "id": "zex11VHvC7Xz"
      },
      "execution_count": null,
      "outputs": []
    },
    {
      "cell_type": "code",
      "source": [
        "x = Flatten()(vgg19.output)"
      ],
      "metadata": {
        "id": "O5sM9mEZC_OC"
      },
      "execution_count": null,
      "outputs": []
    },
    {
      "cell_type": "code",
      "source": [
        "prediction = Dense(len(folders), activation=\"softmax\")(x)\n",
        "\n",
        "model_vgg19 = Model(inputs=vgg19.input, outputs=prediction)"
      ],
      "metadata": {
        "id": "PZi7BIStDAWu"
      },
      "execution_count": null,
      "outputs": []
    },
    {
      "cell_type": "code",
      "source": [
        "model_vgg19.summary()"
      ],
      "metadata": {
        "id": "Y-sa7k1LDJGx",
        "outputId": "8aec3cc8-a25d-40f4-d221-90e1220b973d",
        "colab": {
          "base_uri": "https://localhost:8080/"
        }
      },
      "execution_count": null,
      "outputs": [
        {
          "output_type": "stream",
          "name": "stdout",
          "text": [
            "Model: \"model\"\n",
            "_________________________________________________________________\n",
            " Layer (type)                Output Shape              Param #   \n",
            "=================================================================\n",
            " input_1 (InputLayer)        [(None, 128, 128, 3)]     0         \n",
            "                                                                 \n",
            " block1_conv1 (Conv2D)       (None, 128, 128, 64)      1792      \n",
            "                                                                 \n",
            " block1_conv2 (Conv2D)       (None, 128, 128, 64)      36928     \n",
            "                                                                 \n",
            " block1_pool (MaxPooling2D)  (None, 64, 64, 64)        0         \n",
            "                                                                 \n",
            " block2_conv1 (Conv2D)       (None, 64, 64, 128)       73856     \n",
            "                                                                 \n",
            " block2_conv2 (Conv2D)       (None, 64, 64, 128)       147584    \n",
            "                                                                 \n",
            " block2_pool (MaxPooling2D)  (None, 32, 32, 128)       0         \n",
            "                                                                 \n",
            " block3_conv1 (Conv2D)       (None, 32, 32, 256)       295168    \n",
            "                                                                 \n",
            " block3_conv2 (Conv2D)       (None, 32, 32, 256)       590080    \n",
            "                                                                 \n",
            " block3_conv3 (Conv2D)       (None, 32, 32, 256)       590080    \n",
            "                                                                 \n",
            " block3_conv4 (Conv2D)       (None, 32, 32, 256)       590080    \n",
            "                                                                 \n",
            " block3_pool (MaxPooling2D)  (None, 16, 16, 256)       0         \n",
            "                                                                 \n",
            " block4_conv1 (Conv2D)       (None, 16, 16, 512)       1180160   \n",
            "                                                                 \n",
            " block4_conv2 (Conv2D)       (None, 16, 16, 512)       2359808   \n",
            "                                                                 \n",
            " block4_conv3 (Conv2D)       (None, 16, 16, 512)       2359808   \n",
            "                                                                 \n",
            " block4_conv4 (Conv2D)       (None, 16, 16, 512)       2359808   \n",
            "                                                                 \n",
            " block4_pool (MaxPooling2D)  (None, 8, 8, 512)         0         \n",
            "                                                                 \n",
            " block5_conv1 (Conv2D)       (None, 8, 8, 512)         2359808   \n",
            "                                                                 \n",
            " block5_conv2 (Conv2D)       (None, 8, 8, 512)         2359808   \n",
            "                                                                 \n",
            " block5_conv3 (Conv2D)       (None, 8, 8, 512)         2359808   \n",
            "                                                                 \n",
            " block5_conv4 (Conv2D)       (None, 8, 8, 512)         2359808   \n",
            "                                                                 \n",
            " block5_pool (MaxPooling2D)  (None, 4, 4, 512)         0         \n",
            "                                                                 \n",
            " flatten (Flatten)           (None, 8192)              0         \n",
            "                                                                 \n",
            " dense (Dense)               (None, 10)                81930     \n",
            "                                                                 \n",
            "=================================================================\n",
            "Total params: 20,106,314\n",
            "Trainable params: 81,930\n",
            "Non-trainable params: 20,024,384\n",
            "_________________________________________________________________\n"
          ]
        }
      ]
    },
    {
      "cell_type": "code",
      "source": [
        "from tensorflow.keras import optimizers"
      ],
      "metadata": {
        "id": "lmQwcjJS_Qqz"
      },
      "execution_count": null,
      "outputs": []
    },
    {
      "cell_type": "code",
      "source": [
        "model_vgg19.compile(loss='categorical_crossentropy',\n",
        "              optimizer=optimizers.RMSprop(lr=1e-4),\n",
        "              metrics=['acc'])"
      ],
      "metadata": {
        "id": "K_nbCZ27DMRt",
        "outputId": "607a440f-7bb1-4587-e7e9-9a7c36d4a330",
        "colab": {
          "base_uri": "https://localhost:8080/"
        }
      },
      "execution_count": null,
      "outputs": [
        {
          "output_type": "stream",
          "name": "stderr",
          "text": [
            "/usr/local/lib/python3.7/dist-packages/keras/optimizer_v2/rmsprop.py:130: UserWarning: The `lr` argument is deprecated, use `learning_rate` instead.\n",
            "  super(RMSprop, self).__init__(name, **kwargs)\n"
          ]
        }
      ]
    },
    {
      "cell_type": "code",
      "source": [
        "train_datagen_vg19 = ImageDataGenerator(rescale=1./255)\n",
        "\n",
        "test_datagen_vg19 = ImageDataGenerator(rescale=1./255)"
      ],
      "metadata": {
        "id": "ODzv5cL6DN8P"
      },
      "execution_count": null,
      "outputs": []
    },
    {
      "cell_type": "code",
      "source": [
        "trainning_set_vg19 = train_datagen_vg19.flow_from_directory(train_path,\n",
        "                                                 target_size=(128, 128),\n",
        "                                                 batch_size=32,\n",
        "                                                 class_mode=\"categorical\", \n",
        "                                                 shuffle=True)"
      ],
      "metadata": {
        "id": "1lkUjss9DRLF",
        "outputId": "3ac80ebe-d650-4172-c843-dec2b74e15f1",
        "colab": {
          "base_uri": "https://localhost:8080/"
        }
      },
      "execution_count": null,
      "outputs": [
        {
          "output_type": "stream",
          "name": "stdout",
          "text": [
            "Found 10000 images belonging to 10 classes.\n"
          ]
        }
      ]
    },
    {
      "cell_type": "code",
      "source": [
        "testing_set_vg19 = test_datagen_vg19.flow_from_directory(test_path,\n",
        "                                                 target_size=(128, 128),\n",
        "                                                 batch_size=32,\n",
        "                                                 class_mode=\"categorical\", \n",
        "                                                 shuffle=False)"
      ],
      "metadata": {
        "id": "Bv9XnBRPDSmH",
        "outputId": "42074de0-46f7-4b74-dcf9-7682ff4a2b6d",
        "colab": {
          "base_uri": "https://localhost:8080/"
        }
      },
      "execution_count": null,
      "outputs": [
        {
          "output_type": "stream",
          "name": "stdout",
          "text": [
            "Found 1000 images belonging to 10 classes.\n"
          ]
        }
      ]
    },
    {
      "cell_type": "code",
      "source": [
        "r= model_vgg19.fit(trainning_set_vg19,validation_data=testing_set_vg19 ,validation_batch_size=64,epochs=10)"
      ],
      "metadata": {
        "id": "EvARZHaL_XhZ",
        "outputId": "e712fe65-7d20-40f3-8160-e3af228e8858",
        "colab": {
          "base_uri": "https://localhost:8080/"
        }
      },
      "execution_count": null,
      "outputs": [
        {
          "output_type": "stream",
          "name": "stdout",
          "text": [
            "Epoch 1/10\n",
            "313/313 [==============================] - 42s 129ms/step - loss: 1.5597 - acc: 0.5534 - val_loss: 1.2061 - val_acc: 0.6380\n",
            "Epoch 2/10\n",
            "313/313 [==============================] - 25s 80ms/step - loss: 0.9958 - acc: 0.7126 - val_loss: 0.9773 - val_acc: 0.7050\n",
            "Epoch 3/10\n",
            "313/313 [==============================] - 25s 80ms/step - loss: 0.8161 - acc: 0.7559 - val_loss: 0.8625 - val_acc: 0.7190\n",
            "Epoch 4/10\n",
            "313/313 [==============================] - 25s 79ms/step - loss: 0.7162 - acc: 0.7819 - val_loss: 0.8083 - val_acc: 0.7320\n",
            "Epoch 5/10\n",
            "313/313 [==============================] - 25s 79ms/step - loss: 0.6517 - acc: 0.8036 - val_loss: 0.7586 - val_acc: 0.7560\n",
            "Epoch 6/10\n",
            "313/313 [==============================] - 25s 79ms/step - loss: 0.6011 - acc: 0.8209 - val_loss: 0.7186 - val_acc: 0.7760\n",
            "Epoch 7/10\n",
            "313/313 [==============================] - 25s 81ms/step - loss: 0.5626 - acc: 0.8300 - val_loss: 0.6993 - val_acc: 0.7750\n",
            "Epoch 8/10\n",
            "313/313 [==============================] - 25s 79ms/step - loss: 0.5296 - acc: 0.8432 - val_loss: 0.6955 - val_acc: 0.7650\n",
            "Epoch 9/10\n",
            "313/313 [==============================] - 25s 79ms/step - loss: 0.5012 - acc: 0.8508 - val_loss: 0.6817 - val_acc: 0.7690\n",
            "Epoch 10/10\n",
            "313/313 [==============================] - 25s 80ms/step - loss: 0.4785 - acc: 0.8547 - val_loss: 0.6592 - val_acc: 0.7720\n"
          ]
        }
      ]
    },
    {
      "cell_type": "code",
      "source": [
        "score_train = model_vgg19.evaluate(trainning_set_vg19, verbose=2)\n",
        "accuracy_train = 100*score_train[1]\n",
        "print('Train accuracy = %.4f%% ' % accuracy_train) \n",
        "\n",
        "score_val = model_vgg19.evaluate(testing_set_vg19 , verbose=2)\n",
        "accuracy_val = 100*score_val[1]\n",
        "print('Validate accuracy = %.4f%% ' % accuracy_val)"
      ],
      "metadata": {
        "id": "GmEb5Yf0Y-yT",
        "outputId": "7c5cbb8e-2317-4354-90ee-15671da23475",
        "colab": {
          "base_uri": "https://localhost:8080/"
        }
      },
      "execution_count": null,
      "outputs": [
        {
          "output_type": "stream",
          "name": "stdout",
          "text": [
            "313/313 - 22s - loss: 0.4596 - acc: 0.8637 - 22s/epoch - 69ms/step\n",
            "Train accuracy = 86.3700% \n",
            "32/32 - 2s - loss: 0.6592 - acc: 0.7720 - 2s/epoch - 69ms/step\n",
            "Validate accuracy = 77.2000% \n"
          ]
        }
      ]
    },
    {
      "cell_type": "code",
      "source": [
        "import matplotlib.pyplot as plt "
      ],
      "metadata": {
        "id": "STcbWJaxYtFn"
      },
      "execution_count": null,
      "outputs": []
    },
    {
      "cell_type": "code",
      "source": [
        "# plot the loss\n",
        "plt.plot(r.history['loss'], label='train loss')\n",
        "plt.plot(r.history['val_loss'], label='val loss')\n",
        "plt.legend()\n",
        "plt.show()\n",
        "plt.savefig('LossVal_loss')\n",
        "\n",
        "# plot the accuracy\n",
        "plt.plot(r.history['acc'], label='train acc')\n",
        "plt.plot(r.history['val_acc'], label='val acc')\n",
        "plt.legend()\n",
        "plt.show()\n",
        "plt.savefig('AccVal_acc')"
      ],
      "metadata": {
        "id": "yV0kvlKRNusA",
        "outputId": "8e6b7f90-356a-463e-b6b6-0e95d8c4e718",
        "colab": {
          "base_uri": "https://localhost:8080/",
          "height": 533
        }
      },
      "execution_count": null,
      "outputs": [
        {
          "output_type": "display_data",
          "data": {
            "text/plain": [
              "<Figure size 432x288 with 1 Axes>"
            ],
            "image/png": "[encoded data removed]"
          },
          "metadata": {
            "needs_background": "light"
          }
        },
        {
          "output_type": "display_data",
          "data": {
            "text/plain": [
              "<Figure size 432x288 with 1 Axes>"
            ],
            "image/png": "[encoded data removed]"
          },
          "metadata": {
            "needs_background": "light"
          }
        },
        {
          "output_type": "display_data",
          "data": {
            "text/plain": [
              "<Figure size 432x288 with 0 Axes>"
            ]
          },
          "metadata": {}
        }
      ]
    },
    {
      "cell_type": "code",
      "source": [
        "y_pred = model_vgg19.predict(testing_set_vg19)"
      ],
      "metadata": {
        "id": "7jcpRr55DXmR"
      },
      "execution_count": null,
      "outputs": []
    },
    {
      "cell_type": "code",
      "source": [
        "y_pred"
      ],
      "metadata": {
        "id": "JsDx8ELoDYgf",
        "outputId": "5d2f1897-60ec-4b67-8527-db84eb2c291c",
        "colab": {
          "base_uri": "https://localhost:8080/"
        }
      },
      "execution_count": null,
      "outputs": [
        {
          "output_type": "execute_result",
          "data": {
            "text/plain": [
              "array([[8.9393592e-01, 6.1427612e-02, 4.4575962e-03, ..., 4.0121679e-03,\n",
              "        4.6328923e-06, 1.4087680e-04],\n",
              "       [9.4224387e-01, 3.8261939e-02, 1.0555932e-02, ..., 3.5675825e-04,\n",
              "        1.0409009e-06, 6.1703663e-06],\n",
              "       [9.3512028e-01, 4.6169795e-02, 6.8787248e-03, ..., 3.4867725e-04,\n",
              "        2.5677687e-06, 3.9002360e-05],\n",
              "       ...,\n",
              "       [4.1092481e-03, 2.3403522e-01, 2.0527820e-01, ..., 1.7927945e-04,\n",
              "        8.7087613e-04, 2.3492610e-03],\n",
              "       [7.3717086e-04, 2.4511954e-01, 2.1153168e-01, ..., 3.8273507e-04,\n",
              "        3.5327032e-02, 3.2393372e-01],\n",
              "       [1.1383873e-01, 5.7030536e-02, 1.3637081e-01, ..., 1.1396261e-01,\n",
              "        4.1165475e-02, 2.4224642e-01]], dtype=float32)"
            ]
          },
          "metadata": {},
          "execution_count": 41
        }
      ]
    },
    {
      "cell_type": "code",
      "source": [
        "y_pred = np.argmax(y_pred, axis=1)\n",
        "y_pred"
      ],
      "metadata": {
        "id": "gOWed3_9K34V",
        "outputId": "5f1eb8e9-9bbd-4304-b616-2657fdd127c9",
        "colab": {
          "base_uri": "https://localhost:8080/"
        }
      },
      "execution_count": null,
      "outputs": [
        {
          "output_type": "execute_result",
          "data": {
            "text/plain": [
              "array([0, 0, 0, 0, 0, 0, 0, 0, 0, 0, 0, 0, 0, 0, 0, 0, 0, 0, 0, 0, 4, 0,\n",
              "       0, 0, 0, 0, 0, 0, 0, 0, 0, 2, 0, 0, 0, 0, 4, 0, 0, 0, 4, 0, 0, 0,\n",
              "       4, 0, 0, 0, 0, 0, 0, 0, 0, 7, 0, 0, 0, 0, 0, 0, 0, 4, 0, 0, 0, 0,\n",
              "       0, 0, 0, 0, 0, 2, 0, 0, 0, 0, 0, 0, 4, 1, 0, 4, 0, 0, 0, 0, 0, 0,\n",
              "       0, 0, 0, 0, 0, 0, 0, 4, 0, 0, 0, 0, 5, 4, 1, 5, 0, 1, 1, 1, 1, 1,\n",
              "       1, 1, 1, 1, 2, 1, 1, 2, 1, 5, 1, 4, 3, 1, 1, 2, 0, 1, 3, 1, 1, 1,\n",
              "       4, 6, 2, 2, 2, 1, 2, 3, 1, 1, 1, 3, 1, 1, 1, 1, 1, 1, 8, 1, 2, 1,\n",
              "       1, 1, 2, 1, 1, 1, 1, 1, 2, 2, 2, 1, 2, 1, 1, 1, 1, 5, 1, 2, 2, 4,\n",
              "       1, 1, 0, 2, 3, 4, 1, 1, 4, 1, 1, 2, 2, 1, 2, 1, 1, 2, 0, 1, 1, 1,\n",
              "       2, 2, 2, 1, 2, 2, 2, 2, 2, 2, 2, 2, 4, 2, 1, 2, 2, 4, 2, 2, 2, 2,\n",
              "       2, 2, 2, 2, 2, 2, 1, 2, 2, 2, 3, 2, 1, 2, 1, 2, 2, 2, 2, 2, 2, 2,\n",
              "       2, 2, 2, 2, 2, 1, 2, 0, 2, 2, 1, 2, 1, 2, 2, 2, 0, 2, 2, 2, 2, 3,\n",
              "       2, 2, 4, 2, 2, 2, 1, 1, 2, 4, 2, 2, 2, 2, 2, 2, 2, 6, 2, 2, 4, 2,\n",
              "       2, 2, 4, 2, 2, 2, 2, 2, 2, 1, 2, 2, 0, 4, 3, 0, 3, 3, 3, 3, 3, 8,\n",
              "       3, 3, 3, 7, 3, 8, 3, 4, 3, 3, 4, 3, 3, 3, 4, 3, 3, 1, 3, 3, 3, 3,\n",
              "       3, 3, 3, 3, 3, 3, 3, 6, 4, 8, 3, 3, 3, 6, 3, 3, 1, 6, 3, 2, 7, 3,\n",
              "       3, 3, 8, 8, 3, 3, 3, 7, 3, 8, 4, 3, 3, 8, 4, 2, 3, 3, 3, 3, 3, 3,\n",
              "       3, 3, 3, 6, 6, 8, 8, 1, 3, 1, 4, 3, 2, 7, 3, 3, 3, 8, 3, 1, 3, 5,\n",
              "       3, 8, 3, 1, 4, 4, 4, 3, 7, 7, 4, 1, 4, 4, 4, 0, 4, 4, 4, 0, 4, 5,\n",
              "       4, 4, 2, 6, 4, 4, 1, 4, 4, 4, 4, 4, 4, 3, 4, 4, 4, 4, 1, 4, 4, 4,\n",
              "       4, 4, 4, 4, 4, 0, 4, 4, 4, 4, 3, 2, 4, 4, 4, 2, 4, 4, 4, 4, 4, 2,\n",
              "       4, 4, 4, 4, 3, 4, 4, 5, 4, 4, 2, 4, 4, 8, 4, 4, 4, 4, 4, 4, 4, 4,\n",
              "       4, 4, 4, 1, 2, 4, 6, 1, 4, 4, 4, 4, 4, 4, 8, 4, 5, 5, 5, 6, 5, 5,\n",
              "       5, 5, 5, 5, 6, 6, 5, 5, 5, 6, 5, 8, 5, 5, 5, 5, 5, 5, 5, 5, 5, 5,\n",
              "       5, 5, 5, 5, 5, 5, 5, 5, 5, 8, 5, 5, 5, 5, 5, 5, 6, 5, 5, 5, 5, 5,\n",
              "       5, 5, 5, 5, 5, 5, 5, 5, 5, 6, 5, 5, 6, 5, 5, 5, 5, 5, 5, 5, 7, 5,\n",
              "       5, 5, 5, 5, 5, 5, 5, 5, 5, 5, 4, 5, 8, 8, 5, 8, 4, 5, 5, 5, 5, 8,\n",
              "       3, 8, 7, 5, 6, 5, 6, 5, 5, 6, 6, 4, 6, 6, 6, 6, 6, 6, 6, 6, 9, 6,\n",
              "       6, 6, 6, 6, 6, 6, 6, 6, 5, 6, 6, 6, 6, 6, 6, 6, 1, 9, 6, 6, 5, 5,\n",
              "       6, 6, 6, 8, 9, 6, 6, 9, 6, 6, 6, 5, 6, 9, 7, 6, 5, 6, 6, 6, 6, 6,\n",
              "       6, 6, 6, 5, 6, 9, 6, 6, 6, 6, 6, 5, 8, 9, 6, 4, 1, 6, 6, 6, 8, 6,\n",
              "       2, 8, 6, 1, 9, 4, 2, 3, 4, 4, 4, 8, 6, 1, 2, 6, 1, 2, 7, 7, 7, 7,\n",
              "       7, 7, 7, 0, 4, 7, 7, 7, 5, 7, 7, 7, 7, 7, 7, 0, 5, 7, 7, 7, 7, 7,\n",
              "       7, 7, 7, 7, 7, 7, 7, 7, 7, 7, 7, 7, 4, 7, 7, 7, 7, 7, 7, 7, 6, 7,\n",
              "       7, 7, 7, 7, 7, 7, 4, 7, 7, 6, 7, 7, 7, 7, 7, 7, 7, 7, 7, 7, 7, 7,\n",
              "       7, 5, 8, 7, 7, 7, 7, 7, 7, 8, 7, 7, 7, 7, 7, 7, 7, 1, 7, 7, 5, 7,\n",
              "       7, 7, 7, 7, 7, 7, 7, 8, 8, 5, 8, 8, 8, 8, 8, 8, 8, 3, 8, 8, 8, 8,\n",
              "       8, 8, 8, 8, 8, 8, 8, 8, 8, 5, 8, 8, 8, 8, 8, 8, 8, 8, 8, 8, 8, 8,\n",
              "       8, 8, 8, 8, 8, 8, 8, 8, 8, 8, 8, 8, 8, 8, 8, 8, 8, 4, 8, 8, 8, 8,\n",
              "       8, 8, 8, 8, 8, 8, 8, 8, 8, 8, 8, 8, 8, 8, 8, 8, 8, 8, 8, 8, 8, 8,\n",
              "       8, 8, 8, 8, 8, 8, 8, 8, 8, 8, 8, 8, 8, 8, 8, 8, 8, 8, 8, 8, 9, 9,\n",
              "       9, 9, 9, 9, 9, 9, 9, 9, 9, 9, 9, 9, 9, 9, 9, 9, 9, 9, 9, 9, 9, 9,\n",
              "       9, 9, 9, 9, 9, 9, 9, 9, 9, 9, 6, 9, 9, 9, 9, 9, 9, 9, 9, 9, 9, 9,\n",
              "       9, 9, 9, 9, 9, 9, 9, 9, 9, 9, 9, 9, 9, 9, 9, 9, 9, 9, 9, 9, 9, 9,\n",
              "       9, 9, 9, 9, 9, 9, 9, 9, 9, 9, 9, 9, 8, 9, 9, 9, 9, 9, 6, 9, 9, 9,\n",
              "       4, 9, 9, 9, 9, 3, 4, 4, 9, 9])"
            ]
          },
          "metadata": {},
          "execution_count": 42
        }
      ]
    },
    {
      "cell_type": "code",
      "source": [
        "from collections import Counter"
      ],
      "metadata": {
        "id": "zwqdW_ShvAH-"
      },
      "execution_count": null,
      "outputs": []
    },
    {
      "cell_type": "code",
      "source": [
        "cnt = Counter(y_pred)\n",
        "cnt"
      ],
      "metadata": {
        "id": "5cRB2f5Ru34p",
        "outputId": "b5e9e5c6-861d-49e5-8039-583a7dbea925",
        "colab": {
          "base_uri": "https://localhost:8080/"
        }
      },
      "execution_count": null,
      "outputs": [
        {
          "output_type": "execute_result",
          "data": {
            "text/plain": [
              "Counter({0: 101,\n",
              "         1: 86,\n",
              "         2: 113,\n",
              "         3: 77,\n",
              "         4: 117,\n",
              "         5: 102,\n",
              "         6: 82,\n",
              "         7: 95,\n",
              "         8: 126,\n",
              "         9: 101})"
            ]
          },
          "metadata": {},
          "execution_count": 48
        }
      ]
    },
    {
      "cell_type": "code",
      "source": [
        "model_vgg19.save(\"vgg_19tl.model\")"
      ],
      "metadata": {
        "id": "9Er-qyddoFPr",
        "outputId": "027f3d3f-7268-49de-9b88-d918e23da30a",
        "colab": {
          "base_uri": "https://localhost:8080/"
        }
      },
      "execution_count": null,
      "outputs": [
        {
          "output_type": "stream",
          "name": "stdout",
          "text": [
            "INFO:tensorflow:Assets written to: vgg_19tl.model/assets\n"
          ]
        }
      ]
    },
    {
      "cell_type": "code",
      "source": [
        "import cv2\n",
        "import tensorflow as tf\n",
        "def prepare(filepath):\n",
        "    img_array = cv2.imread(filepath, cv2.IMREAD_COLOR)\n",
        "    img_array = img_array / 255\n",
        "    new_array = cv2.resize(img_array, (128, 128))\n",
        "    return new_array.reshape(-1, 128, 128, 3)\n",
        "\n",
        "model = tf.keras.models.load_model(\"vgg_19tl.model\")"
      ],
      "metadata": {
        "id": "IxC-q3ydoF55"
      },
      "execution_count": null,
      "outputs": []
    },
    {
      "cell_type": "code",
      "source": [
        "class_dict = trainning_set_vg19.class_indices\n",
        "class_dict"
      ],
      "metadata": {
        "id": "1wwCWJjdoL8b",
        "outputId": "1a50e5ca-7e89-43b2-c945-9e603a465457",
        "colab": {
          "base_uri": "https://localhost:8080/"
        }
      },
      "execution_count": null,
      "outputs": [
        {
          "output_type": "execute_result",
          "data": {
            "text/plain": [
              "{'Tomato___Bacterial_spot': 0,\n",
              " 'Tomato___Early_blight': 1,\n",
              " 'Tomato___Late_blight': 2,\n",
              " 'Tomato___Leaf_Mold': 3,\n",
              " 'Tomato___Septoria_leaf_spot': 4,\n",
              " 'Tomato___Spider_mites Two-spotted_spider_mite': 5,\n",
              " 'Tomato___Target_Spot': 6,\n",
              " 'Tomato___Tomato_Yellow_Leaf_Curl_Virus': 7,\n",
              " 'Tomato___Tomato_mosaic_virus': 8,\n",
              " 'Tomato___healthy': 9}"
            ]
          },
          "metadata": {},
          "execution_count": 33
        }
      ]
    },
    {
      "cell_type": "code",
      "source": [
        "def prediction_cls(prediction):\n",
        "    for key, clss in class_dict.items():\n",
        "        if np.argmax(prediction) == clss:\n",
        "            return key"
      ],
      "metadata": {
        "id": "T6x4zHCpoONn"
      },
      "execution_count": null,
      "outputs": []
    },
    {
      "cell_type": "code",
      "source": [
        "prediction = model.predict([prepare('/content/drive/MyDrive/archive/tomato/val/Tomato___Tomato_mosaic_virus/0befa341-0db3-49f4-b4fc-beeb05854bff___PSU_CG 2338.JPG')])\n",
        "prediction_cls(prediction)"
      ],
      "metadata": {
        "id": "RpTX3EwcoPLi",
        "outputId": "58ea639b-c2f0-4d00-8eeb-a7ece341a704",
        "colab": {
          "base_uri": "https://localhost:8080/",
          "height": 35
        }
      },
      "execution_count": null,
      "outputs": [
        {
          "output_type": "execute_result",
          "data": {
            "text/plain": [
              "'Tomato___Tomato_mosaic_virus'"
            ],
            "application/vnd.google.colaboratory.intrinsic+json": {
              "type": "string"
            }
          },
          "metadata": {},
          "execution_count": 35
        }
      ]
    },
    {
      "cell_type": "code",
      "source": [
        "prediction = model.predict([prepare('/content/drive/MyDrive/archive/tomato/val/Tomato___healthy/000bf685-b305-408b-91f4-37030f8e62db___GH_HL Leaf 308.1.JPG')])\n",
        "prediction_cls(prediction)"
      ],
      "metadata": {
        "id": "WOcjXLOBooR-",
        "outputId": "e7892925-a5a9-4930-ccaf-472ab669c43d",
        "colab": {
          "base_uri": "https://localhost:8080/",
          "height": 35
        }
      },
      "execution_count": null,
      "outputs": [
        {
          "output_type": "execute_result",
          "data": {
            "text/plain": [
              "'Tomato___healthy'"
            ],
            "application/vnd.google.colaboratory.intrinsic+json": {
              "type": "string"
            }
          },
          "metadata": {},
          "execution_count": 36
        }
      ]
    }
  ]
}